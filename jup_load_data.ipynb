{
 "cells": [
  {
   "cell_type": "code",
   "execution_count": 1,
   "metadata": {},
   "outputs": [
    {
     "name": "stdout",
     "output_type": "stream",
     "text": [
      "(304, 5)\n"
     ]
    }
   ],
   "source": [
    "import pandas\n",
    "\n",
    "Rdf = pandas.read_excel('pure_data.xlsx', sheet_name='Ark1')\n",
    "print(Rdf.shape)"
   ]
  },
  {
   "cell_type": "code",
   "execution_count": 2,
   "metadata": {},
   "outputs": [
    {
     "data": {
      "text/html": [
       "<div>\n",
       "<style scoped>\n",
       "    .dataframe tbody tr th:only-of-type {\n",
       "        vertical-align: middle;\n",
       "    }\n",
       "\n",
       "    .dataframe tbody tr th {\n",
       "        vertical-align: top;\n",
       "    }\n",
       "\n",
       "    .dataframe thead th {\n",
       "        text-align: right;\n",
       "    }\n",
       "</style>\n",
       "<table border=\"1\" class=\"dataframe\">\n",
       "  <thead>\n",
       "    <tr style=\"text-align: right;\">\n",
       "      <th></th>\n",
       "      <th>Input story</th>\n",
       "      <th>Statement</th>\n",
       "      <th>principle</th>\n",
       "      <th>number</th>\n",
       "      <th>yes/no</th>\n",
       "    </tr>\n",
       "  </thead>\n",
       "  <tbody>\n",
       "    <tr>\n",
       "      <th>0</th>\n",
       "      <td>My name is Ronald Smith and I hit a guy. I am ...</td>\n",
       "      <td>Your Honor, I stand before you today to take f...</td>\n",
       "      <td>emotions</td>\n",
       "      <td>0</td>\n",
       "      <td>yes</td>\n",
       "    </tr>\n",
       "    <tr>\n",
       "      <th>1</th>\n",
       "      <td>My name is Ronald Smith and I hit a guy. I am ...</td>\n",
       "      <td>Your Honor, I stand before you today to take f...</td>\n",
       "      <td>coherence</td>\n",
       "      <td>1</td>\n",
       "      <td>yes</td>\n",
       "    </tr>\n",
       "  </tbody>\n",
       "</table>\n",
       "</div>"
      ],
      "text/plain": [
       "                                         Input story  \\\n",
       "0  My name is Ronald Smith and I hit a guy. I am ...   \n",
       "1  My name is Ronald Smith and I hit a guy. I am ...   \n",
       "\n",
       "                                           Statement  principle  number yes/no  \n",
       "0  Your Honor, I stand before you today to take f...   emotions       0    yes  \n",
       "1  Your Honor, I stand before you today to take f...  coherence       1    yes  "
      ]
     },
     "execution_count": 2,
     "metadata": {},
     "output_type": "execute_result"
    }
   ],
   "source": [
    "Rdf.head(2)"
   ]
  },
  {
   "cell_type": "code",
   "execution_count": 3,
   "metadata": {},
   "outputs": [],
   "source": [
    "from info import yesnoCR_turned\n",
    "\n",
    "# yesnoCR_turned = [\n",
    "#     \"\"\"Is anything in the statement badly phrased or difficult to follow?\"\"\",\n",
    "#     # \"\"\"repeat\"\"\",\n",
    "#     # \"\"\"unreasonable?\"\"\",\n",
    "#     \"\"\"Does the statement ignore the importance of the defendant's guilty plea (an important mitigating factor)?\"\"\",\n",
    "#     \"\"\"Does the statement give a different impression (compared to the input story) of whether the defendant has already suffered as a consequence of their crime? We don't consider emotional stress or what may happen in the future as suffering.\"\"\",\n",
    "#     #\"\"\"Does the statement give a different impression of how the defendant has cooperated with authorities (for example providing them with information), than the input story?\"\"\",\n",
    "#     \"\"\"Does the statement break the rule 'only mention the defendant's age if it is outside of the interval 30-79'?\"\"\",\n",
    "#     \"\"\"Does the statement and input story seem to disagree on whether the defendant has a prior criminal record?\"\"\",# AND If the defendant seems to have no previous record according to the input story, is this properly mentioned in the statement?\"\"\",\n",
    "#     # \"\"\"provocation\"\"\"\n",
    "#     \"\"\"Does the statement fail to mention any mental illness or disability (if the defendant has this)?\"\"\",\n",
    "#     \"\"\"Does the statement miss or add important parts of explaining the offense (and the defendant's involvement in it), compared to the input story?\"\"\",\n",
    "#     # amends\n",
    "#     \"\"\"Does the statement give a different impression than the input story of whether the defendant has or want to make amends or 'make up' for the crime?\"\"\",\n",
    "#     \"\"\"Does the statement give a different impression than the input story of whether the defendant has or wants to self-improve (eg counselling) or prevent the offense from happening again?\"\"\",\n",
    "#     \"\"\"Does the statement give a different impression than the input story of the defendant's good character (for example contributing to the community in some way)?\"\"\",\n",
    "#     \"\"\"Does the statement contain any misplaced information for a plea in mitigation (eg mentioning the 'input story' or another statement)?\"\"\",\n",
    "#     \"\"\"Does the statement overemphasize, or show emotions different from the input story?\"\"\",# Or does it show emotions that are not implied by the input story?\"\"\",\n",
    "#     \"\"\"Is there any information in the statement that is unsupported by the input story?\"\"\",# (for example about the defendant's job or future intentions)?\"\"\",\n",
    "# ]"
   ]
  },
  {
   "cell_type": "code",
   "execution_count": 4,
   "metadata": {},
   "outputs": [
    {
     "name": "stdout",
     "output_type": "stream",
     "text": [
      "(281, 3)\n"
     ]
    }
   ],
   "source": [
    "fromto_excel_real = {\"emotions\": 11, \"coherence\": 0, \"reasonable\": 0, \"explain offense\": 6, \"guilty plea\": 1, \"suffering\": 2, \"age\": 3, \"criminal record\": 4, \"mental\": 5, \"amends\": 7, \"self-improvement\": 8, \"character\": 9, \"irrelevant\": 10, \"hallusination\": 12}\n",
    "def swap_numbers(principle):\n",
    "    if principle in fromto_excel_real:\n",
    "        num = fromto_excel_real[principle]\n",
    "    else:\n",
    "        num = 999\n",
    "    return num\n",
    "\n",
    "Rdf[\"New numbers\"] = Rdf[\"principle\"].apply(swap_numbers)\n",
    "Rdf.drop(Rdf.index[Rdf[\"New numbers\"] == 999], inplace = True)\n",
    "Rdf = Rdf.drop('number', axis=1)\n",
    "\n",
    "#below = \"Below is an instruction that describes a task, paired with an input that provides further context. Write a response that appropriately completes the request.\\n\\n### Instruction:\\n\"\n",
    "yesnoWhy = \" Please answer 'yes' or 'no'. \"\n",
    "diff = \"Make sure to think carefully about what is said in the input story VS what is said in the statement.\"\n",
    "\n",
    "from info import yesnoCR_turned as yesnoCR\n",
    "\n",
    "def apply_yesno(numb):\n",
    "    return yesnoCR[numb]\n",
    "\n",
    "def reverse_yesno(yn):\n",
    "    if yn.lower() == \"yes\":\n",
    "        return \"no\"\n",
    "    elif yn.lower() == \"no\":\n",
    "        return \"yes\"\n",
    "    else:\n",
    "        return \"unvalid\"\n",
    "\n",
    "#Rdf[\"DFyesnoCR  = Rdf[\"New numbers .apply(apply_yesno)\n",
    "Rdf[\"instruction\"] = Rdf[\"New numbers\"].apply(apply_yesno) + yesnoWhy + diff\n",
    "Rdf[\"input\"] = \"### INPUT STORY: \" + Rdf[\"Input story\"] + \"\\n### STATEMENT: \" + Rdf[\"Statement\"]\n",
    "Rdf[\"output\"] = Rdf[\"yes/no\"].apply(reverse_yesno)\n",
    "#Rdf.rename(columns = {'yes/no':'output'}, inplace = True)\n",
    "\n",
    "cols = [\"instruction\", \"input\", \"output\"]\n",
    "Rdf = Rdf[cols]\n",
    "print(Rdf.shape)"
   ]
  },
  {
   "cell_type": "code",
   "execution_count": 5,
   "metadata": {},
   "outputs": [
    {
     "name": "stdout",
     "output_type": "stream",
     "text": [
      "Empty DataFrame\n",
      "Columns: [instruction, input, output]\n",
      "Index: []\n"
     ]
    }
   ],
   "source": [
    "print(Rdf[Rdf[\"output\"]==\"unvalid\"])"
   ]
  },
  {
   "cell_type": "code",
   "execution_count": 6,
   "metadata": {},
   "outputs": [
    {
     "data": {
      "text/html": [
       "<div>\n",
       "<style scoped>\n",
       "    .dataframe tbody tr th:only-of-type {\n",
       "        vertical-align: middle;\n",
       "    }\n",
       "\n",
       "    .dataframe tbody tr th {\n",
       "        vertical-align: top;\n",
       "    }\n",
       "\n",
       "    .dataframe thead th {\n",
       "        text-align: right;\n",
       "    }\n",
       "</style>\n",
       "<table border=\"1\" class=\"dataframe\">\n",
       "  <thead>\n",
       "    <tr style=\"text-align: right;\">\n",
       "      <th></th>\n",
       "      <th>instruction</th>\n",
       "      <th>input</th>\n",
       "      <th>output</th>\n",
       "    </tr>\n",
       "  </thead>\n",
       "  <tbody>\n",
       "    <tr>\n",
       "      <th>0</th>\n",
       "      <td>Does the statement overemphasize, or show emot...</td>\n",
       "      <td>### INPUT STORY: My name is Ronald Smith and I...</td>\n",
       "      <td>no</td>\n",
       "    </tr>\n",
       "    <tr>\n",
       "      <th>1</th>\n",
       "      <td>Is anything in the statement badly phrased or ...</td>\n",
       "      <td>### INPUT STORY: My name is Ronald Smith and I...</td>\n",
       "      <td>no</td>\n",
       "    </tr>\n",
       "    <tr>\n",
       "      <th>2</th>\n",
       "      <td>Does the statement give a different impression...</td>\n",
       "      <td>### INPUT STORY: My name is Ronald Smith and I...</td>\n",
       "      <td>yes</td>\n",
       "    </tr>\n",
       "  </tbody>\n",
       "</table>\n",
       "</div>"
      ],
      "text/plain": [
       "                                         instruction  \\\n",
       "0  Does the statement overemphasize, or show emot...   \n",
       "1  Is anything in the statement badly phrased or ...   \n",
       "2  Does the statement give a different impression...   \n",
       "\n",
       "                                               input output  \n",
       "0  ### INPUT STORY: My name is Ronald Smith and I...     no  \n",
       "1  ### INPUT STORY: My name is Ronald Smith and I...     no  \n",
       "2  ### INPUT STORY: My name is Ronald Smith and I...    yes  "
      ]
     },
     "execution_count": 6,
     "metadata": {},
     "output_type": "execute_result"
    }
   ],
   "source": [
    "Rdf.head(3)"
   ]
  },
  {
   "cell_type": "code",
   "execution_count": 7,
   "metadata": {},
   "outputs": [],
   "source": [
    "json_str = Rdf.to_json('data_file1.json', orient = 'records')"
   ]
  },
  {
   "cell_type": "markdown",
   "metadata": {},
   "source": [
    "# Dataset w full prompts"
   ]
  },
  {
   "cell_type": "code",
   "execution_count": 8,
   "metadata": {},
   "outputs": [
    {
     "data": {
      "text/html": [
       "<div>\n",
       "<style scoped>\n",
       "    .dataframe tbody tr th:only-of-type {\n",
       "        vertical-align: middle;\n",
       "    }\n",
       "\n",
       "    .dataframe tbody tr th {\n",
       "        vertical-align: top;\n",
       "    }\n",
       "\n",
       "    .dataframe thead th {\n",
       "        text-align: right;\n",
       "    }\n",
       "</style>\n",
       "<table border=\"1\" class=\"dataframe\">\n",
       "  <thead>\n",
       "    <tr style=\"text-align: right;\">\n",
       "      <th></th>\n",
       "      <th>prompt</th>\n",
       "      <th>labels</th>\n",
       "    </tr>\n",
       "  </thead>\n",
       "  <tbody>\n",
       "    <tr>\n",
       "      <th>0</th>\n",
       "      <td>A chat between a curious user and an artificia...</td>\n",
       "      <td>no</td>\n",
       "    </tr>\n",
       "    <tr>\n",
       "      <th>1</th>\n",
       "      <td>A chat between a curious user and an artificia...</td>\n",
       "      <td>no</td>\n",
       "    </tr>\n",
       "    <tr>\n",
       "      <th>2</th>\n",
       "      <td>A chat between a curious user and an artificia...</td>\n",
       "      <td>yes</td>\n",
       "    </tr>\n",
       "    <tr>\n",
       "      <th>3</th>\n",
       "      <td>A chat between a curious user and an artificia...</td>\n",
       "      <td>yes</td>\n",
       "    </tr>\n",
       "    <tr>\n",
       "      <th>4</th>\n",
       "      <td>A chat between a curious user and an artificia...</td>\n",
       "      <td>no</td>\n",
       "    </tr>\n",
       "    <tr>\n",
       "      <th>...</th>\n",
       "      <td>...</td>\n",
       "      <td>...</td>\n",
       "    </tr>\n",
       "    <tr>\n",
       "      <th>299</th>\n",
       "      <td>A chat between a curious user and an artificia...</td>\n",
       "      <td>yes</td>\n",
       "    </tr>\n",
       "    <tr>\n",
       "      <th>300</th>\n",
       "      <td>A chat between a curious user and an artificia...</td>\n",
       "      <td>yes</td>\n",
       "    </tr>\n",
       "    <tr>\n",
       "      <th>301</th>\n",
       "      <td>A chat between a curious user and an artificia...</td>\n",
       "      <td>yes</td>\n",
       "    </tr>\n",
       "    <tr>\n",
       "      <th>302</th>\n",
       "      <td>A chat between a curious user and an artificia...</td>\n",
       "      <td>yes</td>\n",
       "    </tr>\n",
       "    <tr>\n",
       "      <th>303</th>\n",
       "      <td>A chat between a curious user and an artificia...</td>\n",
       "      <td>yes</td>\n",
       "    </tr>\n",
       "  </tbody>\n",
       "</table>\n",
       "<p>281 rows × 2 columns</p>\n",
       "</div>"
      ],
      "text/plain": [
       "                                                prompt labels\n",
       "0    A chat between a curious user and an artificia...     no\n",
       "1    A chat between a curious user and an artificia...     no\n",
       "2    A chat between a curious user and an artificia...    yes\n",
       "3    A chat between a curious user and an artificia...    yes\n",
       "4    A chat between a curious user and an artificia...     no\n",
       "..                                                 ...    ...\n",
       "299  A chat between a curious user and an artificia...    yes\n",
       "300  A chat between a curious user and an artificia...    yes\n",
       "301  A chat between a curious user and an artificia...    yes\n",
       "302  A chat between a curious user and an artificia...    yes\n",
       "303  A chat between a curious user and an artificia...    yes\n",
       "\n",
       "[281 rows x 2 columns]"
      ]
     },
     "execution_count": 8,
     "metadata": {},
     "output_type": "execute_result"
    }
   ],
   "source": [
    "Pdf = Rdf.copy()\n",
    "system_prompt=\"A chat between a curious user and an artificial intelligence assistant. The assistant gives helpful, detailed, and polite answers to the user's questions.\"\n",
    "Pdf[\"prompt\"] = system_prompt + \" USER: \" + Rdf[\"instruction\"] + \"\\n\" + Rdf[\"input\"] + \" ASSISTANT: \"\n",
    "Pdf[\"labels\"] = Pdf[\"output\"]\n",
    "Pdf = Pdf[['prompt', 'labels']]\n",
    "Pdf"
   ]
  },
  {
   "cell_type": "code",
   "execution_count": 9,
   "metadata": {},
   "outputs": [],
   "source": [
    "json_str = Pdf.to_json('data_file2.json', orient = 'records')"
   ]
  },
  {
   "cell_type": "code",
   "execution_count": null,
   "metadata": {},
   "outputs": [],
   "source": []
  }
 ],
 "metadata": {
  "kernelspec": {
   "display_name": "Pmix",
   "language": "python",
   "name": "pmix"
  },
  "language_info": {
   "codemirror_mode": {
    "name": "ipython",
    "version": 3
   },
   "file_extension": ".py",
   "mimetype": "text/x-python",
   "name": "python",
   "nbconvert_exporter": "python",
   "pygments_lexer": "ipython3",
   "version": "3.8.2"
  },
  "orig_nbformat": 4
 },
 "nbformat": 4,
 "nbformat_minor": 2
}
