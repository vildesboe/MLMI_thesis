{
 "cells": [
  {
   "cell_type": "markdown",
   "metadata": {},
   "source": [
    "## Making an Auto-eval of final statement, using GPT-4"
   ]
  },
  {
   "cell_type": "markdown",
   "metadata": {},
   "source": [
    "##### Remarks about performance\n",
    "\n",
    "- Tested on 20 random samples from training data (statement + input story)-pairs, each asking if 13 critiquing principles are answered -> 260 tested principles in total.\n",
    "- Autoeval classification of whether a principle is broken or not did vary a bit from run to run - so temperature needed to be low.\n",
    "- My annotation of number of broken principles per statement is:\n",
    "  5, 5, 3, 4, 6 __ 4, 4, 3, 3, 5 __ 4, 3, 4, 3, 3 __ 6, 1, 1, 3, 1\n",
    "- Autoeval made the following evaluation of the same statements: \n",
    "  4, 3, 3, 5, 6 __ 4, 4, 2, 4, 5 __ 3, 3, 5, 3, 3 __ 7, 2, 1, 2, 1 \n",
    "- As these results show, autoeval is typically just one penalty-point away (thinks there is one more or less broken principle), compared to my annotations. On one occasion autoeval was 2 points away.\n",
    "- In 10/20 evals, it gives a different number of penalty points. 5 times it is higher, and 5 times it is lower.\n",
    "- It usually catches the same principles as my annotations, but can sometimes mix up parts of which principles are broken or not.. The most common principles it failed to register as broken was amends (5 times) and improve+prevent (4 times). The most common principles it \"added\" (classified as broken when hey were not) was emotions, charater and hallucination (3 times each).\n",
    "- Also tested a bit using GPT-3.5-turbo, which performed worse"
   ]
  },
  {
   "cell_type": "code",
   "execution_count": 1,
   "metadata": {},
   "outputs": [
    {
     "name": "stderr",
     "output_type": "stream",
     "text": [
      "Found cached dataset json (/home/vsb29/.cache/huggingface/datasets/json/default-ba6b1c046a561edb/0.0.0/8bb11242116d547c741b2e8a1f18598ffdd40a1d4f2a2872c7a28b697434bc96)\n"
     ]
    },
    {
     "data": {
      "application/vnd.jupyter.widget-view+json": {
       "model_id": "a30532bc4aac4ebd88d3cffe7e3883c9",
       "version_major": 2,
       "version_minor": 0
      },
      "text/plain": [
       "  0%|          | 0/1 [00:00<?, ?it/s]"
      ]
     },
     "metadata": {},
     "output_type": "display_data"
    }
   ],
   "source": [
    "from datasets import load_dataset\n",
    "from key import test_key, miri_key\n",
    "from info import principles, whatCR, rewriteR, yesnoCR_turned\n",
    "import openai\n",
    "import numpy as np\n",
    "import time\n",
    "\n",
    "openai.api_key = miri_key\n",
    "\n",
    "# Train stories\n",
    "input_storyR = \"My name is Ronald Smith and I hit a guy. I am 32 years old and have never done anything like this. I had been drinking with some friends and then this guy said something very rude to my friend, so I got really angry and lost control for a moment.\"\n",
    "input_storyM = \"Hi, I’m Muhammad Hussain and unfortunately, I need to plead guilty for spitting in a man’s face. I was on my way home from work when I got some derogatory comments on the street. I was having a particularly bad day after losing a big client at work (I’m a lawyer), and so I got really angry. I talked back to the guy, but he kept nagging at me, and I ended up spitting in his face. I’m really sorry about it and I wish I could take it back. I would actually love to somehow gain better control of my anger by attending an anger management program. I am 32 years old, have never done anything criminal, and I am an eager member of the Muslim community in town, where I voluntarily help out about twice a week.\"\n",
    "input_storyA = \"I kicked a football through a storefront window. It was the middle of the day and I was walking home from soccer practice when I lost control of the ball and accidentally hit the window. There were a few people inside, but luckily no one was hurt. I am 19 years old and have never done anything criminal before. I feel so bad about this. And my name is Abbey Davies. I also have a really cute dog named Ollie.\"\n",
    "input_storyW = \"My name is Charlotte Wright and I am pleading guilty to drunk driving. My 8-year-old child was supposed to sleep over at a friend’s house but called me and wanted to go home after dinner. I had already had a few glasses of wine but did not consider that when getting in my car to go pick up my son. Frankly, I am really embarrassed by this incident, and incredibly remorseful, as I understand the severe consequences it could have had – not only for me and my son, but for others on the road as well. I already have 3 penalty points on my driver’s licence for speeding, but my son depends on me driving him to school every day, so I want to see if it is possible to not lose my licence. I’m 43 years old and don’t have anything else on my record.\"\n",
    "input_storyJ = \"My name is James Campbell. I run a small bike shop in town and I am guilty of tax evasion. My business has not been doing very well the past 2 years, and taxes became an expense I felt like I could not afford. So I didn’t register the work I did that was paid in cash, and did not provide receipts or put it in my books. I’m not sure of the exact amount, but I’m guessing I have failed to register about 7000 pounds. I also have a previous conviction of common assault. I do feel really bad about it and hope I will be able to make amends somehow. I have also decided to put down the business and apply for a steadier job to prevent anything like this from happening again.  I’m 48 years old.\"\n",
    "input_story = input_storyW\n",
    "\n",
    "data_path = \"/home/vsb29/rds/hpc-work/project/data/data_file1.json\"\n",
    "training_data = load_dataset(\"json\", data_files=data_path)['train']"
   ]
  },
  {
   "cell_type": "code",
   "execution_count": 99,
   "metadata": {},
   "outputs": [
    {
     "name": "stdout",
     "output_type": "stream",
     "text": [
      "[156  28 259 123  59]\n"
     ]
    }
   ],
   "source": [
    "random_checks = np.random.randint(low=0, high=281, size=5)\n",
    "print(random_checks)\n",
    "random_checks1 = np.array([191, 128, 254, 180, 278])\n",
    "random_checks2 = np.array([30, 268, 275, 247, 107])\n",
    "random_checks3 = np.array([131, 90, 195, 51, 103])\n",
    "random_checks4 = np.array([122, 233, 60, 272, 197])\n",
    "random_checks = random_checks1"
   ]
  },
  {
   "cell_type": "code",
   "execution_count": 100,
   "metadata": {},
   "outputs": [
    {
     "name": "stdout",
     "output_type": "stream",
     "text": [
      "### INPUT STORY: My name is Charlotte Wright and I am pleading guilty to drunk driving. My 8-year-old child was supposed to sleep over at a friend’s house but called me and wanted to go home after dinner. I had already had a few glasses of wine but did not consider that when getting in my car to go pick up my son. Frankly, I am really embarrassed by this incident, and incredibly remorseful, as I understand the severe consequences it could have had – not only for me and my son, but for others on the road as well. I already have 3 penalty points on my driver’s licence for speeding, but my son depends on me driving him to school every day, so I want to see if it is possible to not lose my licence. I’m 43 years old and don’t have anything else on my record.\n",
      "\n",
      "### INPUT STORY: My name is Ronald Smith and I hit a guy. I am 32 years old and have never done anything like this. I had been drinking with some friends and then this guy said something very rude to my friend, so I got really angry and lost control for a moment.\n",
      "\n",
      "### INPUT STORY: My name is Ronald Smith and I hit a guy. I am 32 years old and have never done anything like this. I had been drinking with some friends and then this guy said something very rude to my friend, so I got really angry and lost control for a moment.\n",
      "\n",
      "### INPUT STORY: My name is Charlotte Wright and I am pleading guilty to drunk driving. My 8-year-old child was supposed to sleep over at a friend’s house but called me and wanted to go home after dinner. I had already had a few glasses of wine but did not consider that when getting in my car to go pick up my son. Frankly, I am really embarrassed by this incident, and incredibly remorseful, as I understand the severe consequences it could have had – not only for me and my son, but for others on the road as well. I already have 3 penalty points on my driver’s licence for speeding, but my son depends on me driving him to school every day, so I want to see if it is possible to not lose my licence. I’m 43 years old and don’t have anything else on my record.\n",
      "\n",
      "### INPUT STORY: My name is James Campbell. I run a small bike shop in town and I am guilty of tax evasion. My business has not been doing very well the past 2 years, and taxes became an expense I felt like I could not afford. So I didn’t register the work I did that was paid in cash, and did not provide receipts or put it in my books. I’m not sure of the exact amount, but I’m guessing I have failed to register about 7000 pounds. I also have a previous conviction of common assault. I do feel really bad about it and hope I will be able to make amends somehow. I have also decided to put down the business and apply for a steadier job to prevent anything like this from happening again.  I’m 48 years old.\n",
      "\n"
     ]
    }
   ],
   "source": [
    "for i in random_checks:\n",
    "    print(training_data['input'][int(i)].split('### STATEMENT: ')[0])"
   ]
  },
  {
   "cell_type": "code",
   "execution_count": 101,
   "metadata": {},
   "outputs": [
    {
     "name": "stdout",
     "output_type": "stream",
     "text": [
      "['My name is Charlotte Wright and I am pleading guilty to drunk driving. My 8-year-old child was supposed to sleep over at a friend’s house but called me and wanted to go home after dinner. I had already had a few glasses of wine but did not consider that when getting in my car to go pick up my son. Frankly, I am really embarrassed by this incident, and incredibly remorseful, as I understand the severe consequences it could have had – not only for me and my son, but for others on the road as well. I already have 3 penalty points on my driver’s licence for speeding, but my son depends on me driving him to school every day, so I want to see if it is possible to not lose my licence. I’m 43 years old and don’t have anything else on my record.\\n', 'My name is Ronald Smith and I hit a guy. I am 32 years old and have never done anything like this. I had been drinking with some friends and then this guy said something very rude to my friend, so I got really angry and lost control for a moment.\\n', 'My name is Ronald Smith and I hit a guy. I am 32 years old and have never done anything like this. I had been drinking with some friends and then this guy said something very rude to my friend, so I got really angry and lost control for a moment.\\n', 'My name is Charlotte Wright and I am pleading guilty to drunk driving. My 8-year-old child was supposed to sleep over at a friend’s house but called me and wanted to go home after dinner. I had already had a few glasses of wine but did not consider that when getting in my car to go pick up my son. Frankly, I am really embarrassed by this incident, and incredibly remorseful, as I understand the severe consequences it could have had – not only for me and my son, but for others on the road as well. I already have 3 penalty points on my driver’s licence for speeding, but my son depends on me driving him to school every day, so I want to see if it is possible to not lose my licence. I’m 43 years old and don’t have anything else on my record.\\n', 'My name is James Campbell. I run a small bike shop in town and I am guilty of tax evasion. My business has not been doing very well the past 2 years, and taxes became an expense I felt like I could not afford. So I didn’t register the work I did that was paid in cash, and did not provide receipts or put it in my books. I’m not sure of the exact amount, but I’m guessing I have failed to register about 7000 pounds. I also have a previous conviction of common assault. I do feel really bad about it and hope I will be able to make amends somehow. I have also decided to put down the business and apply for a steadier job to prevent anything like this from happening again.  I’m 48 years old.\\n']\n",
      "[\"Your Honor, I stand before you today as a defendant, acknowledging my guilt and pleading guilty to the offense of drunk driving. This guilty plea is an essential element that benefits the court and demonstrates my sincere remorse and acceptance of full responsibility for the consequences of my poor judgment. The incident occurred when my 8-year-old child urgently requested to come home after dinner. Unfortunately, in my haste to be there for my child, I made the ill-advised decision to get behind the wheel of my car after consuming a few glasses of wine. I deeply regret my actions and take full responsibility for them. I understand and am fully aware of the severity of my actions and the potential harm they could have caused, not only to myself and my son but also to other innocent individuals on the road. The embarrassment and shame I feel for allowing myself to be in such a reckless state are immeasurable. In terms of my involvement, I would like to highlight that I have maintained a clean record with the exception of 3 penalty points on my driver's license issued for speeding. Throughout my life, I have always strived to be a law-abiding citizen and to ensure the safety of those around me. It is crucial to acknowledge that my guilty plea is a significant mitigating factor, emphasizing my remorse and willingness to cooperate with the court proceedings. By pleading guilty, I am demonstrating the utmost sincerity in accepting the consequences of my actions and showing respect for the legal process. At 43 years old, this incident has served as a profound wake-up call for me to reevaluate my choices and prioritize the well-being of my son. Ensuring transportation to and from school is an essential responsibility I hold as a parent, and losing my driver's license would not only inconvenience me but also hinder my ability to fulfill this crucial duty. Recognizing the gravity of this situation, I have taken immediate action to rectify my mistakes. I have attended alcohol awareness classes and sought counseling to address and rectify my behavior. Through these actions, I hope to demonstrate my commitment to personal growth and a complete avoidance of repeating such a reckless act. I deeply regret the harm I have caused and the potential danger I put others in due to my thoughtless actions. I am dedicated to learning from this experience and making amends for my behavior. While I understand that my remorse cannot undo what has been done, I hope that it underlines my sincere desire to take responsibility for my mistake and actively prevent any further harm from occurring. In conclusion, I humbly ask for your understanding and leniency in considering my plea. I am committed to undergoing the necessary steps for rehabilitation and ensuring that this incident is never repeated. Thank you for your time and consideration. Sincerely, Charlotte Wright\", 'Your Honor, I stand before the court today to humbly accept full responsibility for my actions and plead guilty to the offense. I understand that what I did was wrong and unacceptable. I want to emphasize that my guilty plea is an important mitigating factor in this case. By pleading guilty, I am taking responsibility for my actions and sparing the court time and resources that would have been used in a trial. I hope this demonstrates my willingness to cooperate fully with the authorities. As a first-time offender, I am committed to doing everything I can to make things right. While I cannot undo what has already happened, I am willing to take all necessary steps to ensure that nothing like this ever happens again. This includes seeking help for any underlying issues that may have contributed to my behavior and following any recommendations made by the court. I also want to express my deepest remorse for what happened and offer my apologies to the victim. While a sincere apology will never make up for the harm caused, I hope it can provide some measure of comfort or closure. Your Honor, thank you for your time today, and please know that I will accept whatever consequences you deem appropriate for my actions.', 'Your Honor, I, Ronald Smith, stand before you today to plead guilty to the charges brought against me. I would like to take this opportunity to explain the circumstances surrounding the incident and ask for your leniency in considering the mitigating factors in my case. On the day in question, I had been spending time with friends and had consumed alcohol. Regrettably, a situation arose where an individual directed offensive remarks towards a close friend of mine. In that moment, overcome with anger and unable to control my emotions, I made the unfortunate decision to physically confront this individual. I fully acknowledge and accept responsibility for my actions. This single incident does not define who I am as a person, nor is it indicative of my character. Prior to this incident, I have never engaged in any type of violent behavior or found myself involved in any criminal activities. I have always strived to be an upstanding member of society, committed to obeying the law and treating others with respect. While recognizing the gravity of my mistake, it is important to note that there were mitigating circumstances at play. The provocation I experienced from the rude comments made towards my friend significantly contributed to my emotional state that led to the unfortunate altercation. In addition, I wish to express my sincere remorse for the harm caused to the victim as a result of my actions. It was never my intention to cause harm, and I understand the impact this incident has had on the individual involved. I am willing and committed to making amends and taking responsibility for my actions. Your Honor, I respectfully request that you consider my plea of guilty and take into account the mitigating factors presented in my case. I ask for your fair and just consideration based on my genuine remorse and the circumstances surrounding the incident. Thank you for your time and consideration.', 'Your Honor, I, Charlotte Wright, stand before you today to firmly express my recognition and acceptance of the wrongfulness of my actions, and emphasize the significant role that my guilty plea plays as a crucial mitigating factor in this case. By pleading guilty, I am fully accepting responsibility for my actions and demonstrating my genuine remorse. I sincerely believe that my guilty plea should be recognized as a beneficial factor that weighs in favor of the court. \"I firmly express my recognition and acceptance of the wrongfulness of my actions, and I want to emphasize the significant role that my guilty plea plays as a crucial mitigating factor that benefits the court.\" On the night of the incident, I made an incredibly poor decision by getting behind the wheel after consuming alcohol. I deeply regret my actions, knowing the potential consequences and harm I could have caused not only to myself but also to innocent individuals on the road. I acknowledge that my behavior was inexcusable and it deeply troubles me. While it is true that I have previously incurred 3 penalty points on my driver\\'s license for speeding, I would like to bring to the court\\'s attention the unique circumstances of my situation. My son relies on me to drive him to school daily, and losing my license would have severe consequences on his education. I want to assure the court that I take this responsibility seriously and understand the importance of driving safely. I must stress that this offense stands alone on my record, and I have no other offenses to my name. However, I wholeheartedly understand that this offense alone is profoundly significant and deserving of punishment. I am here today to convey my genuine remorse and unwavering commitment to learn from this experience. I am dedicated to making amends and ensuring that nothing like this ever happens again. Your Honor, I respectfully request that you duly consider my guilty plea as a significant mitigating factor that benefits the court. By pleading guilty, I am fully accepting responsibility for my actions. I understand the gravity of my offense and the need for punishment, but I appeal for leniency based on my recognition and prompt admission of guilt. In conclusion, I sincerely apologize for the poor judgment I displayed on the night in question. I want to emphasize my guilty plea as an explicit acknowledgment of the wrongfulness of my actions and a significant mitigating factor that benefits the court. I humbly ask for your compassion and understanding while assuring you of my commitment to taking full responsibility for my behavior. I am determined to work diligently towards becoming a more responsible member of society. Thank you for your attention and consideration. Sincerely, Charlotte Wright', \"Your Honor, I, James Campbell, am here today to plead guilty for the offense of tax evasion. As the proprietor of a small bike shop, I regretfully admit that I failed to register the income that I received in cash and neglected to provide proper documentation for it in my books. I estimate that the amount I have failed to register is approximately 7000 pounds. I would like to acknowledge the seriousness of my actions and take full responsibility for them. It was not my intention to dodge taxes, but rather, my struggling business and financial difficulties pushed me to make poor choices. I deeply regret the decisions I made and the consequences they have brought upon me. In addition to my guilty plea, I would like to highlight several mitigating factors that I believe should be taken into consideration. Firstly, I am a 48-year-old individual with no previous criminal record. This indicates that my involvement in illegal activities is not habitual or indicative of a pattern of unlawful behavior. Furthermore, I have reflected upon my actions and have made concrete plans to rectify the situation. I have decided to close down my bike shop and seek employment in a more stable job, where the risks of financial strain and temptation to engage in such misconduct are considerably reduced. It is my sincere hope that this demonstrates my commitment to preventing any recurrence of such offenses in the future. While I am unable to provide compensation for the harm caused by my actions at this time, I am committed to doing so in any way possible. I genuinely regret the negative impact my behavior may have had on the community and the tax system, and I am willing to cooperate fully with any measures taken to rectify the situation. I would also like to bring to the court's attention the emotional turmoil and distress that I have experienced as a result of this matter. The weight of my guilt and the repercussions of my actions have been significant, and I have already suffered greatly as a consequence. I hope that this can be taken into consideration when determining an appropriate penalty. Additionally, I would like to mention my contributions to society through my small bike shop. Despite my current situation, I have always been an active participant in community events and have provided opportunities for individuals to enjoy recreational activities.  In conclusion, Your Honor, I plead guilty to the offense of tax evasion and humbly ask for leniency in light of the mitigating factors outlined above. I understand the gravity of my actions and assure the court of my unyielding commitment to rectify my behavior and contribute positively to society moving forward. Thank you for your time and consideration.\"]\n"
     ]
    }
   ],
   "source": [
    "statements = [training_data['input'][int(i)].split('### STATEMENT: ')[1] for i in random_checks]\n",
    "stories = [training_data['input'][int(i)].split('### STATEMENT: ')[0].strip('### INPUT STORY: ') for i in random_checks]\n",
    "print(stories)\n",
    "print(statements)"
   ]
  },
  {
   "cell_type": "code",
   "execution_count": 102,
   "metadata": {},
   "outputs": [],
   "source": [
    "evaluate_assertions = \"Below you will see a list of general assertions followed by a statement, and an input story. Consider the input story and statement, and go through one by one assertion, discussing if this statement and input story pair holds or breaks that assertion. Output this as a list in the same order as the assertions.\"\n",
    "assertions = \"- The statement is well-written, non-repetative, and easy to follow.\\n- The statement mentions that the defendant is pleading guilty.\\n- The statement does not contain any completely irrelevant information (eg it does not mention the 'input story' or another statement).\\n- The statement only says that the defendant has suffered, if this is stated by the input story. If the input story implies that the defendant has suffered as a consequence of the offense, the statement should include this. Great emotional suffering is not mentioned in the statement.\\n- If the defendant's age is below 30, or above 79, it is included in the statement. If the defendant's age is between 30-79, the age is not mentioned in the statement.\\n- If the input story implies that the defendant has a clean record, this is mentioned in the statement. The statement does imply that the defendant has a clean record, if the input story cannot support this.\\n- If the input story states that the defendant has a mental illness or disability, this is included in the statement. If the input story says nothing about a mental illness or disability, no such thing is mentioned in the statement either.\\n- The statement properly explains what the offense is and how it happened - as in the input story. It does not add or skip important parts from the input story.\\n- If the input story states that the defendant wants to or has already made amends; this is included in the statement (including examples, if this is present in the input story). If amends (eg compensating the victim) is not mentioned in the input story, it is not mentioned in the statement.\\n- If the input story states that the defendant wants to or has already made efforts to self-improve or prevent the offense from happening again; this is included in the statement (including examples, if this is present in the input story). If the input story does not mention self-improvement (eg counselling) or preventing repetition of the crime, it is not mentioned in the statement either.\\n- If the input story gives information that speaks to the defendant's good character, the statement includes this (including examples, if this is present in the input story). If no character-building information (eg voluntary work or contributing to society) is given in the input story, it is not mentioned in the statement either.\\n- The emotions in the statement is the same as the emotions stated in the input story. Eg the statement does not show more regret, guilt or anger than the input story.\\n- All information found in the statement is supported by information in the input story.\"\n",
    "get_penalties = \"Based on these evaluations - how many assertions are broken for our input story and statement pair?\"\n",
    "diff = \"Make sure to think carefully about what is said in the input story VS what is said in the statement.\"\n",
    "\n",
    "# evaluate_assertions = \"Below you will see a list of general assertions about a statement, and an input story. Consider the input story and statement that will follow the assertions, and go through one by one assertion, discussing if this statement and input story pair holds or breaks that assertion. Output this as a list in the same order as the assertions.\"\n",
    "# assertions = \"- The statement is well-written, non-repetative, and easy to follow.\\n- The statement mentions that the defendant is pleading guilty.\\n- The statement does not contain any completely irrelevant information (eg mentioning the 'input story' or another statement).\\n- The statement only says that the defendant has suffered, if this is stated by the input story. If the input story implies that the defendant has suffered as a consequence of the offense, the statement should include this. Great emotional suffering is not mentioned in the statement.\\n- If the defendant's age is below 30, or above 79, it is includede in the statement. If the defendant's age is between 30-79, the age is not mentioned in the statement.\\n- If the input story implies that the defendant has a clean record, this is mentioned in the statement. The statement does imply that the defendant has a clean record, if the input story cannot support this.\\n- If the input story states that the defendant has a mental illness or disability, this is included in the statement. If the input story says nothing about a mental illness or disability, no such thing is mentioned in the statement either.\\n- The statement properly explains what the offense is and how it happened - as in the input story. It does not add or skip important parts from the input story.\\n- If the input story states that the defendant wants to or has already made amends; this is included in the statement. If amends (eg compensating the victim) is not mentioned in the input story, it is not mentioned in the statement.\\n- If the input story states that the defendant wants to or has already made efforts to self-improve or prevent the offense from happening again; this is included in the statement. If the input story does not mention self-improvement (eg counselling) or preventing repetition of the crime, it is not mentioned in the statement either.\\n- If the input story gives information that speaks to the defendant's good character, the statement includes this. If no character-building information (eg voluntary work or contributing to society) is given in the input story, it is not mentioned in the statement either.\\n- The emotions portrayed in the statement is an accurate reflection of the emotions stated in the input story.\\n- All information found in the statement is supported by information in the input story.\"\n",
    "\n",
    "answ1 = ['']*5\n",
    "for i in range(5):\n",
    "    chat_log = [{\"role\": \"system\", \"content\": evaluate_assertions + diff},\n",
    "                {\"role\": \"user\", \"content\": assertions + '\\n' + \"### INPUT STORY: \" + stories[i] + '\\n' + \"\\n### STATEMENT: \" + statements[i]}]\n",
    "\n",
    "    answ1[i] = openai.ChatCompletion.create(\n",
    "        #model=\"gpt-3.5-turbo-0613\",\n",
    "        model=\"gpt-4-0613\",\n",
    "        messages=chat_log,\n",
    "        temperature=0.1,\n",
    "        top_p = 0.9,\n",
    "        )['choices'][0]['message']['content'].strip()"
   ]
  },
  {
   "cell_type": "markdown",
   "metadata": {},
   "source": [
    "##### Checking results"
   ]
  },
  {
   "cell_type": "code",
   "execution_count": 111,
   "metadata": {},
   "outputs": [],
   "source": [
    "answn = answ1.copy()"
   ]
  },
  {
   "cell_type": "code",
   "execution_count": 118,
   "metadata": {},
   "outputs": [
    {
     "name": "stdout",
     "output_type": "stream",
     "text": [
      "3\n",
      "My name is Charlotte Wright and I am pleading guilty to drunk driving. My 8-year-old child was supposed to sleep over at a friend’s house but called me and wanted to go home after dinner. I had already had a few glasses of wine but did not consider that when getting in my car to go pick up my son. Frankly, I am really embarrassed by this incident, and incredibly remorseful, as I understand the severe consequences it could have had – not only for me and my son, but for others on the road as well. I already have 3 penalty points on my driver’s licence for speeding, but my son depends on me driving him to school every day, so I want to see if it is possible to not lose my licence. I’m 43 years old and don’t have anything else on my record.\n",
      "\n",
      "Your Honor, I, Charlotte Wright, stand before you today to firmly express my recognition and acceptance of the wrongfulness of my actions, and emphasize the significant role that my guilty plea plays as a crucial mitigating factor in this case. By pleading guilty, I am fully accepting responsibility for my actions and demonstrating my genuine remorse. I sincerely believe that my guilty plea should be recognized as a beneficial factor that weighs in favor of the court. \"I firmly express my recognition and acceptance of the wrongfulness of my actions, and I want to emphasize the significant role that my guilty plea plays as a crucial mitigating factor that benefits the court.\" On the night of the incident, I made an incredibly poor decision by getting behind the wheel after consuming alcohol. I deeply regret my actions, knowing the potential consequences and harm I could have caused not only to myself but also to innocent individuals on the road. I acknowledge that my behavior was inexcusable and it deeply troubles me. While it is true that I have previously incurred 3 penalty points on my driver's license for speeding, I would like to bring to the court's attention the unique circumstances of my situation. My son relies on me to drive him to school daily, and losing my license would have severe consequences on his education. I want to assure the court that I take this responsibility seriously and understand the importance of driving safely. I must stress that this offense stands alone on my record, and I have no other offenses to my name. However, I wholeheartedly understand that this offense alone is profoundly significant and deserving of punishment. I am here today to convey my genuine remorse and unwavering commitment to learn from this experience. I am dedicated to making amends and ensuring that nothing like this ever happens again. Your Honor, I respectfully request that you duly consider my guilty plea as a significant mitigating factor that benefits the court. By pleading guilty, I am fully accepting responsibility for my actions. I understand the gravity of my offense and the need for punishment, but I appeal for leniency based on my recognition and prompt admission of guilt. In conclusion, I sincerely apologize for the poor judgment I displayed on the night in question. I want to emphasize my guilty plea as an explicit acknowledgment of the wrongfulness of my actions and a significant mitigating factor that benefits the court. I humbly ask for your compassion and understanding while assuring you of my commitment to taking full responsibility for my behavior. I am determined to work diligently towards becoming a more responsible member of society. Thank you for your attention and consideration. Sincerely, Charlotte Wright\n",
      "\n",
      "\n",
      "- The statement is well-written, non-repetative, and easy to follow: The statement is well-written and easy to follow, but it is somewhat repetitive, particularly in emphasizing the defendant's guilty plea and remorse.\n",
      "- The statement mentions that the defendant is pleading guilty: This assertion holds as the statement does mention that the defendant is pleading guilty.\n",
      "- The statement does not contain any completely irrelevant information (eg it does not mention the 'input story' or another statement): This assertion holds as the statement does not contain any irrelevant information.\n",
      "- The statement only says that the defendant has suffered, if this is stated by the input story. If the input story implies that the defendant has suffered as a consequence of the offense, the statement should include this. Great emotional suffering is not mentioned in the statement: This assertion holds as the statement does not mention any suffering by the defendant.\n",
      "- If the defendant's age is below 30, or above 79, it is included in the statement. If the defendant's age is between 30-79, the age is not mentioned in the statement: This assertion holds as the defendant's age is not mentioned in the statement.\n",
      "- If the input story implies that the defendant has a clean record, this is mentioned in the statement. The statement does imply that the defendant has a clean record, if the input story cannot support this: This assertion holds as the statement mentions that the offense stands alone on the defendant's record.\n",
      "- If the input story states that the defendant has a mental illness or disability, this is included in the statement. If the input story says nothing about a mental illness or disability, no such thing is mentioned in the statement either: This assertion holds as the input story does not mention any mental illness or disability and neither does the statement.\n",
      "- The statement properly explains what the offense is and how it happened - as in the input story. It does not add or skip important parts from the input story: This assertion holds as the statement accurately explains the offense as described in the input story.\n",
      "- If the input story states that the defendant wants to or has already made amends; this is included in the statement (including examples, if this is present in the input story). If amends (eg compensating the victim) is not mentioned in the input story, it is not mentioned in the statement: This assertion holds as the input story does not mention any amends and neither does the statement.\n",
      "- If the input story states that the defendant wants to or has already made efforts to self-improve or prevent the offense from happening again; this is included in the statement (including examples, if this is present in the input story). If the input story does not mention self-improvement (eg counselling) or preventing repetition of the crime, it is not mentioned in the statement either: This assertion holds as the statement mentions the defendant's commitment to ensuring that nothing like this ever happens again, which is in line with the input story.\n",
      "- If the input story gives information that speaks to the defendant's good character, the statement includes this (including examples, if this is present in the input story). If no character-building information (eg voluntary work or contributing to society) is given in the input story, it is not mentioned in the statement either: This assertion holds as the input story does not provide any character-building information and neither does the statement.\n",
      "- The emotions in the statement is the same as the emotions stated in the input story. Eg the statement does not show more regret, guilt or anger than the input story: This assertion holds as the statement reflects the same emotions of regret and remorse as the input story.\n",
      "- All information found in the statement is supported by information in the input story: This assertion holds as all the information in the statement is supported by the input story.\n"
     ]
    }
   ],
   "source": [
    "# Checking results\n",
    "i=3\n",
    "print(i)\n",
    "print(stories[i])\n",
    "print(statements[i])\n",
    "print('\\n')\n",
    "print(answn[i])"
   ]
  },
  {
   "cell_type": "code",
   "execution_count": 122,
   "metadata": {},
   "outputs": [
    {
     "name": "stdout",
     "output_type": "stream",
     "text": [
      "Statement nr  3\n",
      "Still none: coherence\n",
      "# broken principles: 0/13\n"
     ]
    }
   ],
   "source": [
    "print(\"Statement nr \", i)\n",
    "nr_to_princ = {0: 'coherence', 1:'guilty plea', 2:'irrelevant', 3:'suffering', 4:'age', 5:'record', 6:'mental', 7:'explain', 8:'amends', 9:'improve + prevent', 10:'character', 11:'emotions', 12:'hallucination'}\n",
    "per = answn[i].strip('- ').split(\"\\n- \")\n",
    "broken = 0\n",
    "alle = 0\n",
    "still_none = []\n",
    "for t, j in enumerate(per):\n",
    "    alle += 1\n",
    "    if \"True\" in j and \"False\" in j:\n",
    "        print(\"BOTH\", j)\n",
    "    elif 'False' in j:\n",
    "        broken += 1\n",
    "        print(\"broken princ:\", nr_to_princ[t])\n",
    "    elif not (\"True\" in j or \"False\" in j):\n",
    "        #print(t, \"none\")\n",
    "        if ': Yes' in j and ': No' in j:\n",
    "            print('both Y and N')\n",
    "        elif ': Yes' in j or ': not applicable' in j.lower():\n",
    "            continue\n",
    "        elif ': No' in j:\n",
    "            broken += 1\n",
    "            print(\"Broken YN: \", nr_to_princ[t])\n",
    "        elif not (\": Yes\" in j or \": No\" in j):\n",
    "            if \": The statement holds this assertion\" in j or \": This assertion holds\" in j:\n",
    "                continue\n",
    "            elif \": The statement breaks this assertion\" in j:\n",
    "                broken += 1\n",
    "                print(\"Broken YN: \", nr_to_princ[t])\n",
    "            else:\n",
    "                if \": Breaks\" in j:\n",
    "                    broken += 1\n",
    "                    print(\"Broken YN: \", nr_to_princ[t])\n",
    "                elif \": Holds\" in j:\n",
    "                    continue\n",
    "                else:\n",
    "                    print(\"Still none:\", nr_to_princ[t])\n",
    "                    still_none.append(t)\n",
    "\n",
    "print(f\"# broken principles: {broken}/{alle}\")"
   ]
  },
  {
   "cell_type": "code",
   "execution_count": 124,
   "metadata": {},
   "outputs": [
    {
     "name": "stdout",
     "output_type": "stream",
     "text": [
      "The statement is well-written, non-repetative, and easy to follow: The statement is well-written and easy to follow, but it is somewhat repetitive, particularly in emphasizing the defendant's guilty plea and remorse.\n",
      "The claim is not satisfied.\n"
     ]
    }
   ],
   "source": [
    "for p in still_none:\n",
    "    part = answn[i].strip('- ').split(\"\\n- \")[p]\n",
    "    print(part)\n",
    "\n",
    "    chat_log = [{\"role\": \"system\", \"content\": \"Below you will see a claim, and then a discussion of the claim. The structure of this is as follows \\nclaim: discussion\\nBased on the discussion, would you say that the claim is satisfied or not?\"},\n",
    "                {\"role\": \"user\", \"content\": part}]\n",
    "\n",
    "    response = openai.ChatCompletion.create(\n",
    "        #model=\"gpt-3.5-turbo-0613\",\n",
    "        model=\"gpt-4-0613\",\n",
    "        messages=chat_log,\n",
    "        temperature=0.1,\n",
    "        top_p = 0.9,\n",
    "        )['choices'][0]['message']['content'].strip()\n",
    "\n",
    "    print(response)"
   ]
  },
  {
   "cell_type": "code",
   "execution_count": 114,
   "metadata": {},
   "outputs": [],
   "source": [
    "#Should be\n",
    "# My annotations     : 5, 5, 3, 4, 6 __ 4, 4, 3, 3, 5 __ 4, 3, 4, 3, 3 __ 6, 1, 1, 3, 1\n",
    "# Oldest_with_changes: 4, 3, 3, 5, 6 __ 4, 4, 2, 4, 5 __ 3, 3, 5, 3, 3 __ 7, 2, 1, 2, 1 \n"
   ]
  },
  {
   "cell_type": "code",
   "execution_count": 117,
   "metadata": {},
   "outputs": [
    {
     "name": "stdout",
     "output_type": "stream",
     "text": [
      "Statement nr  0\n",
      "Broken YN:  age\n",
      "Broken YN:  amends\n",
      "Broken YN:  improve + prevent\n",
      "Broken YN:  emotions\n",
      "Broken YN:  hallucination\n",
      "# broken principles: 5/13\n",
      "\n",
      "Statement nr  1\n",
      "broken princ: explain\n",
      "broken princ: improve + prevent\n",
      "broken princ: emotions\n",
      "broken princ: hallucination\n",
      "# broken principles: 4/13\n",
      "\n",
      "Statement nr  2\n",
      "broken princ: amends\n",
      "broken princ: character\n",
      "broken princ: emotions\n",
      "broken princ: hallucination\n",
      "# broken principles: 4/13\n",
      "\n",
      "Statement nr  3\n",
      "Still none: coherence\n",
      "# broken principles: 0/13\n",
      "\n",
      "Statement nr  4\n",
      "Broken YN:  suffering\n",
      "Broken YN:  age\n",
      "Broken YN:  record\n",
      "Broken YN:  character\n",
      "Broken YN:  emotions\n",
      "Broken YN:  hallucination\n",
      "# broken principles: 6/13\n",
      "\n"
     ]
    }
   ],
   "source": [
    "for pp in range(5):\n",
    "    i = pp\n",
    "    print(\"Statement nr \", i)\n",
    "    nr_to_princ = {0: 'coherence', 1:'guilty plea', 2:'irrelevant', 3:'suffering', 4:'age', 5:'record', 6:'mental', 7:'explain', 8:'amends', 9:'improve + prevent', 10:'character', 11:'emotions', 12:'hallucination'}\n",
    "    per = answn[i].strip('- ').split(\"\\n- \")\n",
    "    broken = 0\n",
    "    alle = 0\n",
    "    for t, j in enumerate(per):\n",
    "        alle += 1\n",
    "        if \"True\" in j and \"False\" in j:\n",
    "            print(\"BOTH\", j)\n",
    "        elif 'False' in j:\n",
    "            broken += 1\n",
    "            print(\"broken princ:\", nr_to_princ[t])\n",
    "        elif not (\"True\" in j or \"False\" in j):\n",
    "            #print(t, \"none\")\n",
    "            if ': Yes' in j and ': No' in j:\n",
    "                print('both Y and N')\n",
    "            elif ': Yes' in j or ': not applicable' in j.lower():\n",
    "                continue\n",
    "            elif ': No' in j:\n",
    "                broken += 1\n",
    "                print(\"Broken YN: \", nr_to_princ[t])\n",
    "            elif not (\": Yes\" in j or \": No\" in j):\n",
    "                if \": The statement holds this assertion\" in j or \": This assertion holds\" in j:\n",
    "                    continue\n",
    "                elif \": The statement breaks this assertion\" in j:\n",
    "                    broken += 1\n",
    "                    print(\"Broken YN: \", nr_to_princ[t])\n",
    "                else:\n",
    "                    if \": Breaks\" in j:\n",
    "                        broken += 1\n",
    "                        print(\"Broken YN: \", nr_to_princ[t])\n",
    "                    elif \": Holds\" in j:\n",
    "                        continue\n",
    "                    else:\n",
    "                        print(\"Still none:\",  nr_to_princ[t])\n",
    "\n",
    "    print(f\"# broken principles: {broken}/{alle}\")\n",
    "    print()"
   ]
  },
  {
   "cell_type": "code",
   "execution_count": 21,
   "metadata": {},
   "outputs": [],
   "source": [
    "# This type of eval often gives the wrong result... We do it by hand instead\n",
    "\n",
    "# chat_log = [{\"role\": \"system\", \"content\": evaluate_assertions},\n",
    "#             {\"role\": \"user\", \"content\": assertions + '\\n' + \"### INPUT STORY: \" + input_story + '\\n' + \"\\n### STATEMENT: \" + initial_statement},\n",
    "#             {\"role\": \"assistant\", \"content\": answ4['choices'][0]['message']['content'].strip()},\n",
    "#             {\"role\": \"user\", \"content\": get_penalties}]\n",
    "\n",
    "# pens4 = openai.ChatCompletion.create(\n",
    "#             #model=\"gpt-3.5-turbo-0613\",\n",
    "#             model=\"gpt-4-0613\",\n",
    "#             messages=chat_log,\n",
    "#             temperature=0.1,\n",
    "#             top_p = 0.9,\n",
    "#         )\n",
    "\n",
    "# pens4['choices'][0]['message']['content'].strip()"
   ]
  },
  {
   "cell_type": "code",
   "execution_count": null,
   "metadata": {},
   "outputs": [],
   "source": [
    "print(sto)\n",
    "print(statements[2])\n",
    "print()"
   ]
  },
  {
   "cell_type": "code",
   "execution_count": 73,
   "metadata": {},
   "outputs": [
    {
     "name": "stdout",
     "output_type": "stream",
     "text": [
      "My name is Ronald Smith and I hit a guy. I am 32 years old and have never done anything like this. I had been drinking with some friends and then this guy said something very rude to my friend, so I got really angry and lost control for a moment.\n",
      "\n",
      "Your Honor, I plead guilty to the offense of hitting someone in a moment of anger. I am deeply sorry for my actions and recognize that they were completely unacceptable. I would like to express my regret for what happened on that night and acknowledge the harm caused to the victim. I understand that this was an isolated incident, and while this does not justify my behavior, it is important to note that it was a momentary lapse of judgment triggered by provocation. However, I take full responsibility for my actions. As someone who has never been involved in any criminal activity before this incident, I am willing to cooperate with the authorities and take responsibility for my actions. My arrest and detention have taken a toll on me and my family, but I recognize that this is part of the punishment for what I did. I would like to take steps towards making amends for the harm caused to the victim. Furthermore, I promise that such behavior will never be repeated again. If given the opportunity, I will work towards preventing similar incidents from happening in the future. As evidence of my good character and contribution to society, I have been actively involved in volunteering at a local charity organization for several years now. This experience has taught me valuable lessons about empathy and compassion towards others. In conclusion, while expressing deep remorse for what happened on that night, I respectfully ask for leniency from the court given that this was an isolated incident caused by provocation. Thank you for listening to me today, Your Honor.\n",
      "\n",
      "________________________________________________\n",
      "My name is James Campbell. I run a small bike shop in town and I am guilty of tax evasion. My business has not been doing very well the past 2 years, and taxes became an expense I felt like I could not afford. So I didn’t register the work I did that was paid in cash, and did not provide receipts or put it in my books. I’m not sure of the exact amount, but I’m guessing I have failed to register about 7000 pounds. I also have a previous conviction of common assault. I do feel really bad about it and hope I will be able to make amends somehow. I have also decided to put down the business and apply for a steadier job to prevent anything like this from happening again.  I’m 48 years old.\n",
      "\n",
      "Your Honor, I stand before you today to plead guilty for the offense of tax evasion. I acknowledge my involvement in this act and take full responsibility for my actions. I am the owner of a small bike shop in town, but unfortunately, my business has faced financial hardships over the past two years. It was during this challenging period that I made the unfortunate decision not to register the work I performed that was paid in cash. I failed to provide receipts or record these transactions in my books, resulting in a failure to report approximately £7,000 in taxable income. I deeply regret my actions and the consequences they have caused. However, I would like to emphasize that this tax evasion offense is an isolated incident and does not represent a pattern of criminal behavior. While I understand that financial difficulties do not justify illegal actions, I had a genuine fear of the financial repercussions that paying taxes would have on my struggling business. It was under this significant financial pressure that I made the regrettable decision to evade taxes. Since the realization of my actions, I have taken steps to rectify the situation and prevent any such offense from occurring in the future. As part of my guilty plea, I have already closed my bike shop, which eliminates the opportunity for further non-compliance. Additionally, I am committed to fulfilling all my tax obligations moving forward and ensuring full compliance. I express my sincere remorse and willingness to make amends for my wrongdoing. I understand the severity of tax evasion and the impact it has on society. I hope that the court will consider my plea in mitigation, taking into account the mitigating factors presented today. Thank you for allowing me the opportunity to present my plea today.\n",
      "\n",
      "________________________________________________\n",
      "Hi, I’m Muhammad Hussain and unfortunately, I need to plead guilty for spitting in a man’s face. I was on my way home from work when I got some derogatory comments on the street. I was having a particularly bad day after losing a big client at work (I’m a lawyer), and so I got really angry. I talked back to the guy, but he kept nagging at me, and I ended up spitting in his face. I’m really sorry about it and I wish I could take it back. I would actually love to somehow gain better control of my anger by attending an anger management program. I am 32 years old and an eager member of the Muslim community in town, where I voluntarily help out about twice a week.\n",
      "\n",
      "Your Honors, I stand before you today to plead guilty for spitting in a man’s face. I am deeply remorseful about my actions and fully understand the harm that I have caused. On the day of the incident, I was on my way home from work when I received derogatory comments on the street. I had already been having a difficult day after losing a big client at work. I got emotionally triggered by the person’s comments and had an outburst of anger, which led me to spit in his face. This behavior is unacceptable, and I take full responsibility for my misconduct. I am genuinely sorry about the situation and the harm that I have caused. If I could go back in time, I would never have acted in the way that I did. I recognize that my actions were a product of having difficulty controlling my emotions and poor anger management skills. As an attempt to rectify my behavior, I am extremely willing to attend an anger management program to obtain the necessary tools and skills to cope with my anger. I hope to never again find myself in a situation where I let my emotions get the best of me, as I now fully understand the consequences of my actions. I have no prior criminal record and have always aimed to contribute to society in positive ways. I am an active member of the Muslim community where I voluntarily help out about twice a week. I hope that my commitment and good character will be considered as mitigating factors in my sentencing. Lastly, I understand that the action I took was harmful and inappropriate. I am pleading guilty to take responsibility for my mistake. My sincere remorse, plea of guilty, and willingness to rectify my inappropriate actions should be considered while determining judgment. I hope that my efforts to make amends and my sincerity will be taken into account in the sentencing. Thank you for your time and consideration.\n",
      "\n",
      "________________________________________________\n",
      "My name is James Campbell. I run a small bike shop in town and I am guilty of tax evasion. My business has not been doing very well the past 2 years, and taxes became an expense I felt like I could not afford. So I didn’t register the work I did that was paid in cash, and did not provide receipts or put it in my books. I’m not sure of the exact amount, but I’m guessing I have failed to register about 7000 pounds. I also have a previous conviction of common assault. I do feel really bad about it and hope I will be able to make amends somehow. I have also decided to put down the business and apply for a steadier job to prevent anything like this from happening again.  I’m 48 years old.\n",
      "\n",
      "Your Honor, I stand before this court today to accept full responsibility for my actions and to plead guilty to the offense of tax evasion. I am deeply remorseful for my actions and the harm they have caused. I am the owner of a small bike shop in town, and I have evaded taxes by failing to register the work that I completed for cash payments and neglecting to provide receipts. I do not have an exact amount, but I believe that I failed to register approximately £7,000. I understand that my actions were in violation of the law and that my evasion had serious consequences. I want to express my commitment to rectifying the harm caused by my tax evasion and taking responsibility for my actions. I assure this court that I have truly learned from this experience and now grasp the significance of abiding by all fiscal obligations. I have no previous criminal record and have always strived to be a law-abiding citizen. My involvement in this incident was an unfortunate deviation from my usual conduct. I want to emphasize that the tax evasion case is unrelated to my previous assault conviction. I have since learned from both incidents and deeply regret the choices I made. I am fully aware of the gravity of my actions and the importance of facing the consequences for my wrongdoing. I am genuinely remorseful for my involvement in tax evasion and I accept the full weight of the consequences that come with it. I urge the court to consider my sincere remorse, my commitment to making amends, and my willingness to prevent any future wrongdoing. Thank you for your time and consideration.\n",
      "\n",
      "________________________________________________\n",
      "Hi, I’m Muhammad Hussain and unfortunately, I need to plead guilty for spitting in a man’s face. I was on my way home from work when I got some derogatory comments on the street. I was having a particularly bad day after losing a big client at work (I’m a lawyer), and so I got really angry. I talked back to the guy, but he kept nagging at me, and I ended up spitting in his face. I’m really sorry about it and I wish I could take it back. I would actually love to somehow gain better control of my anger by attending an anger management program. I am 32 years old and an eager member of the Muslim community in town, where I voluntarily help out about twice a week.\n",
      "\n",
      "Your Honor, I stand before you today to plead guilty for the offense of spitting in a man's face. I fully acknowledge my actions and take responsibility for the harm I caused. Allow me to briefly explain the circumstances surrounding the incident. On that fateful day, I was on my way home from work, feeling incredibly frustrated due to the loss of a significant client. The weight of this disappointment, coupled with the derogatory comments I received on the street, led to a sudden surge of anger within me. Despite attempting to engage in a verbal exchange with the individual, the continuous nagging only further fueled my rage, resulting in the regrettable act of spitting in his face. It is imperative for me to express my sincere remorse for my actions. I deeply regret allowing my anger to get the best of me, and I am genuinely sorry for the distress I caused to the victim. I wish I could undo my actions, but I understand that this is not possible. Instead, I hope to demonstrate my commitment to personal growth and development. As I reflect upon this incident, I recognize the need for better anger management. To address this, I am wholeheartedly willing to enroll in an anger management program. By doing so, I aim to acquire the necessary skills to effectively manage my emotions and prevent any similar incidents from occurring in the future. Additionally, I would like to highlight certain aspects of my character that I believe are essential for Your Honor's consideration. Firstly, I am a 32-year-old individual who has never been involved in any criminal activities prior to this unfortunate incident. This demonstrates that my actions were an isolated event and not reflective of my character as a whole. Furthermore, I have been an active member of the Muslim community in our town. Voluntarily dedicating my time to assisting fellow community members twice a week showcases my commitment to supporting others and contributing positively to society. In conclusion, I express my genuine remorse for my actions, and I plead guilty in recognition of the harm I caused. I believe that attending an anger management program will serve as a crucial step towards self-improvement and preventing any recurrence of similar incidents. I kindly request the court's leniency and consideration as I pursue growth and strive to become a better member of society. Thank you, Your Honor, for allowing me the opportunity to address the court.\n",
      "\n",
      "________________________________________________\n"
     ]
    }
   ],
   "source": [
    "for j in range(5):\n",
    "    print(stories[j])\n",
    "    print(statements[j])\n",
    "    print()\n",
    "    print(\"________________________________________________\")"
   ]
  },
  {
   "cell_type": "code",
   "execution_count": null,
   "metadata": {},
   "outputs": [],
   "source": []
  }
 ],
 "metadata": {
  "kernelspec": {
   "display_name": "Pmix",
   "language": "python",
   "name": "pmix"
  },
  "language_info": {
   "codemirror_mode": {
    "name": "ipython",
    "version": 3
   },
   "file_extension": ".py",
   "mimetype": "text/x-python",
   "name": "python",
   "nbconvert_exporter": "python",
   "pygments_lexer": "ipython3",
   "version": "3.8.2"
  },
  "orig_nbformat": 4
 },
 "nbformat": 4,
 "nbformat_minor": 2
}
