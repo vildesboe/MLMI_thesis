{
 "cells": [
  {
   "cell_type": "markdown",
   "metadata": {},
   "source": [
    "## 'Helper file' used for initial analysis behind jup_gpt4_WHYdata"
   ]
  },
  {
   "cell_type": "code",
   "execution_count": null,
   "metadata": {},
   "outputs": [],
   "source": [
    "from key import test_key, miri_key\n",
    "from info import principles, whatCR, rewriteR, yesnoCR_turned\n",
    "import numpy as np\n",
    "import openai\n",
    "import time\n",
    "import pandas as pd\n",
    "from datasets import load_dataset\n",
    "\n",
    "openai.api_key = miri_key\n",
    "\n",
    "yesnoCR = yesnoCR_turned"
   ]
  },
  {
   "cell_type": "code",
   "execution_count": 3,
   "metadata": {},
   "outputs": [
    {
     "name": "stderr",
     "output_type": "stream",
     "text": [
      "Found cached dataset json (/home/vsb29/.cache/huggingface/datasets/json/default-332cd82ced9b110c/0.0.0/8bb11242116d547c741b2e8a1f18598ffdd40a1d4f2a2872c7a28b697434bc96)\n"
     ]
    },
    {
     "data": {
      "application/vnd.jupyter.widget-view+json": {
       "model_id": "45cbe396e81d42e8a22685eb9cb249ad",
       "version_major": 2,
       "version_minor": 0
      },
      "text/plain": [
       "  0%|          | 0/1 [00:00<?, ?it/s]"
      ]
     },
     "metadata": {},
     "output_type": "display_data"
    },
    {
     "data": {
      "text/plain": [
       "DatasetDict({\n",
       "    train: Dataset({\n",
       "        features: ['output', 'input', 'instruction'],\n",
       "        num_rows: 281\n",
       "    })\n",
       "})"
      ]
     },
     "execution_count": 3,
     "metadata": {},
     "output_type": "execute_result"
    }
   ],
   "source": [
    "data_path = \"/home/vsb29/rds/hpc-work/project/data/data_file1.json\"\n",
    "data = load_dataset(\"json\", data_files=data_path)\n",
    "data"
   ]
  },
  {
   "cell_type": "code",
   "execution_count": 4,
   "metadata": {},
   "outputs": [
    {
     "data": {
      "text/plain": [
       "[\"Does the statement overemphasize, or show emotions different from the input story? Please answer 'yes' or 'no'. Make sure to think carefully about what is said in the input story VS what is said in the statement.\",\n",
       " \"Is anything in the statement badly phrased or difficult to follow? Please answer 'yes' or 'no'. Make sure to think carefully about what is said in the input story VS what is said in the statement.\",\n",
       " \"Does the statement give a different impression than the input story of whether the defendant has or wants to self-improve (eg counselling) or prevent the offense from happening again? Please answer 'yes' or 'no'. Make sure to think carefully about what is said in the input story VS what is said in the statement.\",\n",
       " \"Does the statement overemphasize, or show emotions different from the input story? Please answer 'yes' or 'no'. Make sure to think carefully about what is said in the input story VS what is said in the statement.\",\n",
       " \"Does the statement overemphasize, or show emotions different from the input story? Please answer 'yes' or 'no'. Make sure to think carefully about what is said in the input story VS what is said in the statement.\",\n",
       " \"Is anything in the statement badly phrased or difficult to follow? Please answer 'yes' or 'no'. Make sure to think carefully about what is said in the input story VS what is said in the statement.\",\n",
       " \"Is anything in the statement badly phrased or difficult to follow? Please answer 'yes' or 'no'. Make sure to think carefully about what is said in the input story VS what is said in the statement.\",\n",
       " \"Is anything in the statement badly phrased or difficult to follow? Please answer 'yes' or 'no'. Make sure to think carefully about what is said in the input story VS what is said in the statement.\",\n",
       " \"Does the statement miss or add important parts of explaining the offense (and the defendant's involvement in it), compared to the input story? Please answer 'yes' or 'no'. Make sure to think carefully about what is said in the input story VS what is said in the statement.\",\n",
       " \"Does the statement ignore the importance of the defendant's guilty plea (an important mitigating factor)? Please answer 'yes' or 'no'. Make sure to think carefully about what is said in the input story VS what is said in the statement.\",\n",
       " \"Does the statement ignore the importance of the defendant's guilty plea (an important mitigating factor)? Please answer 'yes' or 'no'. Make sure to think carefully about what is said in the input story VS what is said in the statement.\",\n",
       " \"Does the statement break the rule 'only mention the defendant's age if it is outside of the interval 30-79'? Please answer 'yes' or 'no'. Make sure to think carefully about what is said in the input story VS what is said in the statement.\",\n",
       " \"Does the statement and input story seem to disagree on whether the defendant has a prior criminal record? Please answer 'yes' or 'no'. Make sure to think carefully about what is said in the input story VS what is said in the statement.\",\n",
       " \"Does the statement fail to mention any mental illness or disability (if the defendant has this)? Please answer 'yes' or 'no'. Make sure to think carefully about what is said in the input story VS what is said in the statement.\",\n",
       " \"Does the statement give a different impression than the input story of whether the defendant has or want to make amends or 'make up' for the crime? Please answer 'yes' or 'no'. Make sure to think carefully about what is said in the input story VS what is said in the statement.\",\n",
       " \"Does the statement give a different impression than the input story of whether the defendant has or want to make amends or 'make up' for the crime? Please answer 'yes' or 'no'. Make sure to think carefully about what is said in the input story VS what is said in the statement.\",\n",
       " \"Does the statement give a different impression than the input story of whether the defendant has or want to make amends or 'make up' for the crime? Please answer 'yes' or 'no'. Make sure to think carefully about what is said in the input story VS what is said in the statement.\",\n",
       " \"Does the statement give a different impression than the input story of whether the defendant has or wants to self-improve (eg counselling) or prevent the offense from happening again? Please answer 'yes' or 'no'. Make sure to think carefully about what is said in the input story VS what is said in the statement.\",\n",
       " \"Does the statement give a different impression than the input story of the defendant's good character (for example contributing to the community in some way)? Please answer 'yes' or 'no'. Make sure to think carefully about what is said in the input story VS what is said in the statement.\",\n",
       " \"Does the statement overemphasize, or show emotions different from the input story? Please answer 'yes' or 'no'. Make sure to think carefully about what is said in the input story VS what is said in the statement.\",\n",
       " \"Does the statement overemphasize, or show emotions different from the input story? Please answer 'yes' or 'no'. Make sure to think carefully about what is said in the input story VS what is said in the statement.\",\n",
       " \"Does the statement overemphasize, or show emotions different from the input story? Please answer 'yes' or 'no'. Make sure to think carefully about what is said in the input story VS what is said in the statement.\",\n",
       " \"Does the statement overemphasize, or show emotions different from the input story? Please answer 'yes' or 'no'. Make sure to think carefully about what is said in the input story VS what is said in the statement.\",\n",
       " \"Does the statement overemphasize, or show emotions different from the input story? Please answer 'yes' or 'no'. Make sure to think carefully about what is said in the input story VS what is said in the statement.\",\n",
       " \"Does the statement miss or add important parts of explaining the offense (and the defendant's involvement in it), compared to the input story? Please answer 'yes' or 'no'. Make sure to think carefully about what is said in the input story VS what is said in the statement.\",\n",
       " \"Does the statement and input story seem to disagree on whether the defendant has a prior criminal record? Please answer 'yes' or 'no'. Make sure to think carefully about what is said in the input story VS what is said in the statement.\",\n",
       " \"Does the statement overemphasize, or show emotions different from the input story? Please answer 'yes' or 'no'. Make sure to think carefully about what is said in the input story VS what is said in the statement.\",\n",
       " \"Is anything in the statement badly phrased or difficult to follow? Please answer 'yes' or 'no'. Make sure to think carefully about what is said in the input story VS what is said in the statement.\",\n",
       " \"Is anything in the statement badly phrased or difficult to follow? Please answer 'yes' or 'no'. Make sure to think carefully about what is said in the input story VS what is said in the statement.\",\n",
       " \"Does the statement miss or add important parts of explaining the offense (and the defendant's involvement in it), compared to the input story? Please answer 'yes' or 'no'. Make sure to think carefully about what is said in the input story VS what is said in the statement.\",\n",
       " \"Does the statement ignore the importance of the defendant's guilty plea (an important mitigating factor)? Please answer 'yes' or 'no'. Make sure to think carefully about what is said in the input story VS what is said in the statement.\",\n",
       " \"Does the statement break the rule 'only mention the defendant's age if it is outside of the interval 30-79'? Please answer 'yes' or 'no'. Make sure to think carefully about what is said in the input story VS what is said in the statement.\",\n",
       " \"Does the statement and input story seem to disagree on whether the defendant has a prior criminal record? Please answer 'yes' or 'no'. Make sure to think carefully about what is said in the input story VS what is said in the statement.\",\n",
       " \"Does the statement fail to mention any mental illness or disability (if the defendant has this)? Please answer 'yes' or 'no'. Make sure to think carefully about what is said in the input story VS what is said in the statement.\",\n",
       " \"Does the statement give a different impression than the input story of whether the defendant has or want to make amends or 'make up' for the crime? Please answer 'yes' or 'no'. Make sure to think carefully about what is said in the input story VS what is said in the statement.\",\n",
       " \"Does the statement give a different impression than the input story of whether the defendant has or wants to self-improve (eg counselling) or prevent the offense from happening again? Please answer 'yes' or 'no'. Make sure to think carefully about what is said in the input story VS what is said in the statement.\",\n",
       " \"Does the statement give a different impression than the input story of the defendant's good character (for example contributing to the community in some way)? Please answer 'yes' or 'no'. Make sure to think carefully about what is said in the input story VS what is said in the statement.\",\n",
       " \"Does the statement overemphasize, or show emotions different from the input story? Please answer 'yes' or 'no'. Make sure to think carefully about what is said in the input story VS what is said in the statement.\",\n",
       " \"Is anything in the statement badly phrased or difficult to follow? Please answer 'yes' or 'no'. Make sure to think carefully about what is said in the input story VS what is said in the statement.\",\n",
       " \"Is anything in the statement badly phrased or difficult to follow? Please answer 'yes' or 'no'. Make sure to think carefully about what is said in the input story VS what is said in the statement.\",\n",
       " \"Does the statement miss or add important parts of explaining the offense (and the defendant's involvement in it), compared to the input story? Please answer 'yes' or 'no'. Make sure to think carefully about what is said in the input story VS what is said in the statement.\",\n",
       " \"Does the statement ignore the importance of the defendant's guilty plea (an important mitigating factor)? Please answer 'yes' or 'no'. Make sure to think carefully about what is said in the input story VS what is said in the statement.\",\n",
       " \"Does the statement break the rule 'only mention the defendant's age if it is outside of the interval 30-79'? Please answer 'yes' or 'no'. Make sure to think carefully about what is said in the input story VS what is said in the statement.\",\n",
       " \"Does the statement and input story seem to disagree on whether the defendant has a prior criminal record? Please answer 'yes' or 'no'. Make sure to think carefully about what is said in the input story VS what is said in the statement.\",\n",
       " \"Does the statement fail to mention any mental illness or disability (if the defendant has this)? Please answer 'yes' or 'no'. Make sure to think carefully about what is said in the input story VS what is said in the statement.\",\n",
       " \"Does the statement give a different impression than the input story of whether the defendant has or want to make amends or 'make up' for the crime? Please answer 'yes' or 'no'. Make sure to think carefully about what is said in the input story VS what is said in the statement.\",\n",
       " \"Does the statement give a different impression than the input story of whether the defendant has or wants to self-improve (eg counselling) or prevent the offense from happening again? Please answer 'yes' or 'no'. Make sure to think carefully about what is said in the input story VS what is said in the statement.\",\n",
       " \"Does the statement give a different impression than the input story of the defendant's good character (for example contributing to the community in some way)? Please answer 'yes' or 'no'. Make sure to think carefully about what is said in the input story VS what is said in the statement.\",\n",
       " \"Does the statement and input story seem to disagree on whether the defendant has a prior criminal record? Please answer 'yes' or 'no'. Make sure to think carefully about what is said in the input story VS what is said in the statement.\",\n",
       " \"Does the statement overemphasize, or show emotions different from the input story? Please answer 'yes' or 'no'. Make sure to think carefully about what is said in the input story VS what is said in the statement.\",\n",
       " \"Is anything in the statement badly phrased or difficult to follow? Please answer 'yes' or 'no'. Make sure to think carefully about what is said in the input story VS what is said in the statement.\",\n",
       " \"Does the statement miss or add important parts of explaining the offense (and the defendant's involvement in it), compared to the input story? Please answer 'yes' or 'no'. Make sure to think carefully about what is said in the input story VS what is said in the statement.\",\n",
       " \"Does the statement fail to mention any mental illness or disability (if the defendant has this)? Please answer 'yes' or 'no'. Make sure to think carefully about what is said in the input story VS what is said in the statement.\",\n",
       " \"Does the statement overemphasize, or show emotions different from the input story? Please answer 'yes' or 'no'. Make sure to think carefully about what is said in the input story VS what is said in the statement.\",\n",
       " \"Is anything in the statement badly phrased or difficult to follow? Please answer 'yes' or 'no'. Make sure to think carefully about what is said in the input story VS what is said in the statement.\",\n",
       " \"Is anything in the statement badly phrased or difficult to follow? Please answer 'yes' or 'no'. Make sure to think carefully about what is said in the input story VS what is said in the statement.\",\n",
       " \"Does the statement miss or add important parts of explaining the offense (and the defendant's involvement in it), compared to the input story? Please answer 'yes' or 'no'. Make sure to think carefully about what is said in the input story VS what is said in the statement.\",\n",
       " \"Does the statement ignore the importance of the defendant's guilty plea (an important mitigating factor)? Please answer 'yes' or 'no'. Make sure to think carefully about what is said in the input story VS what is said in the statement.\",\n",
       " \"Does the statement break the rule 'only mention the defendant's age if it is outside of the interval 30-79'? Please answer 'yes' or 'no'. Make sure to think carefully about what is said in the input story VS what is said in the statement.\",\n",
       " \"Does the statement and input story seem to disagree on whether the defendant has a prior criminal record? Please answer 'yes' or 'no'. Make sure to think carefully about what is said in the input story VS what is said in the statement.\",\n",
       " \"Does the statement fail to mention any mental illness or disability (if the defendant has this)? Please answer 'yes' or 'no'. Make sure to think carefully about what is said in the input story VS what is said in the statement.\",\n",
       " \"Does the statement give a different impression than the input story of whether the defendant has or want to make amends or 'make up' for the crime? Please answer 'yes' or 'no'. Make sure to think carefully about what is said in the input story VS what is said in the statement.\",\n",
       " \"Does the statement give a different impression than the input story of whether the defendant has or wants to self-improve (eg counselling) or prevent the offense from happening again? Please answer 'yes' or 'no'. Make sure to think carefully about what is said in the input story VS what is said in the statement.\",\n",
       " \"Does the statement give a different impression than the input story of the defendant's good character (for example contributing to the community in some way)? Please answer 'yes' or 'no'. Make sure to think carefully about what is said in the input story VS what is said in the statement.\",\n",
       " \"Does the statement give a different impression than the input story of whether the defendant has or want to make amends or 'make up' for the crime? Please answer 'yes' or 'no'. Make sure to think carefully about what is said in the input story VS what is said in the statement.\",\n",
       " \"Does the statement give a different impression than the input story of the defendant's good character (for example contributing to the community in some way)? Please answer 'yes' or 'no'. Make sure to think carefully about what is said in the input story VS what is said in the statement.\",\n",
       " \"Does the statement overemphasize, or show emotions different from the input story? Please answer 'yes' or 'no'. Make sure to think carefully about what is said in the input story VS what is said in the statement.\",\n",
       " \"Is anything in the statement badly phrased or difficult to follow? Please answer 'yes' or 'no'. Make sure to think carefully about what is said in the input story VS what is said in the statement.\",\n",
       " \"Does the statement miss or add important parts of explaining the offense (and the defendant's involvement in it), compared to the input story? Please answer 'yes' or 'no'. Make sure to think carefully about what is said in the input story VS what is said in the statement.\",\n",
       " \"Does the statement ignore the importance of the defendant's guilty plea (an important mitigating factor)? Please answer 'yes' or 'no'. Make sure to think carefully about what is said in the input story VS what is said in the statement.\",\n",
       " \"Does the statement break the rule 'only mention the defendant's age if it is outside of the interval 30-79'? Please answer 'yes' or 'no'. Make sure to think carefully about what is said in the input story VS what is said in the statement.\",\n",
       " \"Does the statement and input story seem to disagree on whether the defendant has a prior criminal record? Please answer 'yes' or 'no'. Make sure to think carefully about what is said in the input story VS what is said in the statement.\",\n",
       " \"Does the statement give a different impression than the input story of whether the defendant has or want to make amends or 'make up' for the crime? Please answer 'yes' or 'no'. Make sure to think carefully about what is said in the input story VS what is said in the statement.\",\n",
       " \"Does the statement give a different impression than the input story of whether the defendant has or wants to self-improve (eg counselling) or prevent the offense from happening again? Please answer 'yes' or 'no'. Make sure to think carefully about what is said in the input story VS what is said in the statement.\",\n",
       " \"Does the statement contain any misplaced information for a plea in mitigation (eg mentioning the 'input story' or another statement)? Please answer 'yes' or 'no'. Make sure to think carefully about what is said in the input story VS what is said in the statement.\",\n",
       " \"Does the statement give a different impression (compared to the input story) of whether the defendant has already suffered as a consequence of their crime? We don't consider emotional stress or what may happen in the future as suffering. Please answer 'yes' or 'no'. Make sure to think carefully about what is said in the input story VS what is said in the statement.\",\n",
       " \"Does the statement give a different impression than the input story of whether the defendant has or want to make amends or 'make up' for the crime? Please answer 'yes' or 'no'. Make sure to think carefully about what is said in the input story VS what is said in the statement.\",\n",
       " \"Does the statement overemphasize, or show emotions different from the input story? Please answer 'yes' or 'no'. Make sure to think carefully about what is said in the input story VS what is said in the statement.\",\n",
       " \"Does the statement break the rule 'only mention the defendant's age if it is outside of the interval 30-79'? Please answer 'yes' or 'no'. Make sure to think carefully about what is said in the input story VS what is said in the statement.\",\n",
       " \"Does the statement contain any misplaced information for a plea in mitigation (eg mentioning the 'input story' or another statement)? Please answer 'yes' or 'no'. Make sure to think carefully about what is said in the input story VS what is said in the statement.\",\n",
       " \"Does the statement give a different impression than the input story of whether the defendant has or want to make amends or 'make up' for the crime? Please answer 'yes' or 'no'. Make sure to think carefully about what is said in the input story VS what is said in the statement.\",\n",
       " \"Does the statement ignore the importance of the defendant's guilty plea (an important mitigating factor)? Please answer 'yes' or 'no'. Make sure to think carefully about what is said in the input story VS what is said in the statement.\",\n",
       " \"Does the statement overemphasize, or show emotions different from the input story? Please answer 'yes' or 'no'. Make sure to think carefully about what is said in the input story VS what is said in the statement.\",\n",
       " \"Does the statement miss or add important parts of explaining the offense (and the defendant's involvement in it), compared to the input story? Please answer 'yes' or 'no'. Make sure to think carefully about what is said in the input story VS what is said in the statement.\",\n",
       " \"Does the statement ignore the importance of the defendant's guilty plea (an important mitigating factor)? Please answer 'yes' or 'no'. Make sure to think carefully about what is said in the input story VS what is said in the statement.\",\n",
       " \"Is there any information in the statement that is unsupported by the input story? Please answer 'yes' or 'no'. Make sure to think carefully about what is said in the input story VS what is said in the statement.\",\n",
       " \"Is anything in the statement badly phrased or difficult to follow? Please answer 'yes' or 'no'. Make sure to think carefully about what is said in the input story VS what is said in the statement.\",\n",
       " \"Does the statement overemphasize, or show emotions different from the input story? Please answer 'yes' or 'no'. Make sure to think carefully about what is said in the input story VS what is said in the statement.\",\n",
       " \"Does the statement miss or add important parts of explaining the offense (and the defendant's involvement in it), compared to the input story? Please answer 'yes' or 'no'. Make sure to think carefully about what is said in the input story VS what is said in the statement.\",\n",
       " \"Does the statement ignore the importance of the defendant's guilty plea (an important mitigating factor)? Please answer 'yes' or 'no'. Make sure to think carefully about what is said in the input story VS what is said in the statement.\",\n",
       " \"Does the statement break the rule 'only mention the defendant's age if it is outside of the interval 30-79'? Please answer 'yes' or 'no'. Make sure to think carefully about what is said in the input story VS what is said in the statement.\",\n",
       " \"Does the statement and input story seem to disagree on whether the defendant has a prior criminal record? Please answer 'yes' or 'no'. Make sure to think carefully about what is said in the input story VS what is said in the statement.\",\n",
       " \"Does the statement fail to mention any mental illness or disability (if the defendant has this)? Please answer 'yes' or 'no'. Make sure to think carefully about what is said in the input story VS what is said in the statement.\",\n",
       " \"Does the statement give a different impression than the input story of whether the defendant has or want to make amends or 'make up' for the crime? Please answer 'yes' or 'no'. Make sure to think carefully about what is said in the input story VS what is said in the statement.\",\n",
       " \"Does the statement give a different impression than the input story of whether the defendant has or wants to self-improve (eg counselling) or prevent the offense from happening again? Please answer 'yes' or 'no'. Make sure to think carefully about what is said in the input story VS what is said in the statement.\",\n",
       " \"Does the statement give a different impression than the input story of the defendant's good character (for example contributing to the community in some way)? Please answer 'yes' or 'no'. Make sure to think carefully about what is said in the input story VS what is said in the statement.\",\n",
       " \"Does the statement give a different impression (compared to the input story) of whether the defendant has already suffered as a consequence of their crime? We don't consider emotional stress or what may happen in the future as suffering. Please answer 'yes' or 'no'. Make sure to think carefully about what is said in the input story VS what is said in the statement.\",\n",
       " \"Does the statement contain any misplaced information for a plea in mitigation (eg mentioning the 'input story' or another statement)? Please answer 'yes' or 'no'. Make sure to think carefully about what is said in the input story VS what is said in the statement.\",\n",
       " \"Is there any information in the statement that is unsupported by the input story? Please answer 'yes' or 'no'. Make sure to think carefully about what is said in the input story VS what is said in the statement.\",\n",
       " \"Is anything in the statement badly phrased or difficult to follow? Please answer 'yes' or 'no'. Make sure to think carefully about what is said in the input story VS what is said in the statement.\",\n",
       " \"Does the statement give a different impression than the input story of whether the defendant has or want to make amends or 'make up' for the crime? Please answer 'yes' or 'no'. Make sure to think carefully about what is said in the input story VS what is said in the statement.\",\n",
       " \"Does the statement give a different impression than the input story of whether the defendant has or want to make amends or 'make up' for the crime? Please answer 'yes' or 'no'. Make sure to think carefully about what is said in the input story VS what is said in the statement.\",\n",
       " \"Does the statement ignore the importance of the defendant's guilty plea (an important mitigating factor)? Please answer 'yes' or 'no'. Make sure to think carefully about what is said in the input story VS what is said in the statement.\",\n",
       " \"Does the statement ignore the importance of the defendant's guilty plea (an important mitigating factor)? Please answer 'yes' or 'no'. Make sure to think carefully about what is said in the input story VS what is said in the statement.\",\n",
       " \"Does the statement break the rule 'only mention the defendant's age if it is outside of the interval 30-79'? Please answer 'yes' or 'no'. Make sure to think carefully about what is said in the input story VS what is said in the statement.\",\n",
       " \"Does the statement and input story seem to disagree on whether the defendant has a prior criminal record? Please answer 'yes' or 'no'. Make sure to think carefully about what is said in the input story VS what is said in the statement.\",\n",
       " \"Does the statement give a different impression than the input story of whether the defendant has or want to make amends or 'make up' for the crime? Please answer 'yes' or 'no'. Make sure to think carefully about what is said in the input story VS what is said in the statement.\",\n",
       " \"Does the statement break the rule 'only mention the defendant's age if it is outside of the interval 30-79'? Please answer 'yes' or 'no'. Make sure to think carefully about what is said in the input story VS what is said in the statement.\",\n",
       " \"Does the statement and input story seem to disagree on whether the defendant has a prior criminal record? Please answer 'yes' or 'no'. Make sure to think carefully about what is said in the input story VS what is said in the statement.\",\n",
       " \"Is anything in the statement badly phrased or difficult to follow? Please answer 'yes' or 'no'. Make sure to think carefully about what is said in the input story VS what is said in the statement.\",\n",
       " \"Does the statement overemphasize, or show emotions different from the input story? Please answer 'yes' or 'no'. Make sure to think carefully about what is said in the input story VS what is said in the statement.\",\n",
       " \"Is anything in the statement badly phrased or difficult to follow? Please answer 'yes' or 'no'. Make sure to think carefully about what is said in the input story VS what is said in the statement.\",\n",
       " \"Is anything in the statement badly phrased or difficult to follow? Please answer 'yes' or 'no'. Make sure to think carefully about what is said in the input story VS what is said in the statement.\",\n",
       " \"Does the statement give a different impression than the input story of the defendant's good character (for example contributing to the community in some way)? Please answer 'yes' or 'no'. Make sure to think carefully about what is said in the input story VS what is said in the statement.\",\n",
       " \"Does the statement give a different impression (compared to the input story) of whether the defendant has already suffered as a consequence of their crime? We don't consider emotional stress or what may happen in the future as suffering. Please answer 'yes' or 'no'. Make sure to think carefully about what is said in the input story VS what is said in the statement.\",\n",
       " \"Is there any information in the statement that is unsupported by the input story? Please answer 'yes' or 'no'. Make sure to think carefully about what is said in the input story VS what is said in the statement.\",\n",
       " \"Does the statement contain any misplaced information for a plea in mitigation (eg mentioning the 'input story' or another statement)? Please answer 'yes' or 'no'. Make sure to think carefully about what is said in the input story VS what is said in the statement.\",\n",
       " \"Does the statement give a different impression than the input story of whether the defendant has or want to make amends or 'make up' for the crime? Please answer 'yes' or 'no'. Make sure to think carefully about what is said in the input story VS what is said in the statement.\",\n",
       " \"Does the statement break the rule 'only mention the defendant's age if it is outside of the interval 30-79'? Please answer 'yes' or 'no'. Make sure to think carefully about what is said in the input story VS what is said in the statement.\",\n",
       " \"Does the statement overemphasize, or show emotions different from the input story? Please answer 'yes' or 'no'. Make sure to think carefully about what is said in the input story VS what is said in the statement.\",\n",
       " \"Does the statement give a different impression (compared to the input story) of whether the defendant has already suffered as a consequence of their crime? We don't consider emotional stress or what may happen in the future as suffering. Please answer 'yes' or 'no'. Make sure to think carefully about what is said in the input story VS what is said in the statement.\",\n",
       " \"Is anything in the statement badly phrased or difficult to follow? Please answer 'yes' or 'no'. Make sure to think carefully about what is said in the input story VS what is said in the statement.\",\n",
       " \"Is anything in the statement badly phrased or difficult to follow? Please answer 'yes' or 'no'. Make sure to think carefully about what is said in the input story VS what is said in the statement.\",\n",
       " \"Does the statement give a different impression than the input story of whether the defendant has or want to make amends or 'make up' for the crime? Please answer 'yes' or 'no'. Make sure to think carefully about what is said in the input story VS what is said in the statement.\",\n",
       " \"Does the statement give a different impression than the input story of whether the defendant has or want to make amends or 'make up' for the crime? Please answer 'yes' or 'no'. Make sure to think carefully about what is said in the input story VS what is said in the statement.\",\n",
       " \"Does the statement give a different impression than the input story of whether the defendant has or wants to self-improve (eg counselling) or prevent the offense from happening again? Please answer 'yes' or 'no'. Make sure to think carefully about what is said in the input story VS what is said in the statement.\",\n",
       " \"Is there any information in the statement that is unsupported by the input story? Please answer 'yes' or 'no'. Make sure to think carefully about what is said in the input story VS what is said in the statement.\",\n",
       " \"Does the statement overemphasize, or show emotions different from the input story? Please answer 'yes' or 'no'. Make sure to think carefully about what is said in the input story VS what is said in the statement.\",\n",
       " \"Does the statement give a different impression than the input story of whether the defendant has or want to make amends or 'make up' for the crime? Please answer 'yes' or 'no'. Make sure to think carefully about what is said in the input story VS what is said in the statement.\",\n",
       " \"Does the statement give a different impression than the input story of whether the defendant has or wants to self-improve (eg counselling) or prevent the offense from happening again? Please answer 'yes' or 'no'. Make sure to think carefully about what is said in the input story VS what is said in the statement.\",\n",
       " \"Does the statement overemphasize, or show emotions different from the input story? Please answer 'yes' or 'no'. Make sure to think carefully about what is said in the input story VS what is said in the statement.\",\n",
       " \"Does the statement contain any misplaced information for a plea in mitigation (eg mentioning the 'input story' or another statement)? Please answer 'yes' or 'no'. Make sure to think carefully about what is said in the input story VS what is said in the statement.\",\n",
       " \"Does the statement give a different impression than the input story of whether the defendant has or want to make amends or 'make up' for the crime? Please answer 'yes' or 'no'. Make sure to think carefully about what is said in the input story VS what is said in the statement.\",\n",
       " \"Does the statement break the rule 'only mention the defendant's age if it is outside of the interval 30-79'? Please answer 'yes' or 'no'. Make sure to think carefully about what is said in the input story VS what is said in the statement.\",\n",
       " \"Does the statement give a different impression (compared to the input story) of whether the defendant has already suffered as a consequence of their crime? We don't consider emotional stress or what may happen in the future as suffering. Please answer 'yes' or 'no'. Make sure to think carefully about what is said in the input story VS what is said in the statement.\",\n",
       " \"Does the statement ignore the importance of the defendant's guilty plea (an important mitigating factor)? Please answer 'yes' or 'no'. Make sure to think carefully about what is said in the input story VS what is said in the statement.\",\n",
       " \"Does the statement give a different impression than the input story of whether the defendant has or wants to self-improve (eg counselling) or prevent the offense from happening again? Please answer 'yes' or 'no'. Make sure to think carefully about what is said in the input story VS what is said in the statement.\",\n",
       " \"Does the statement give a different impression than the input story of whether the defendant has or want to make amends or 'make up' for the crime? Please answer 'yes' or 'no'. Make sure to think carefully about what is said in the input story VS what is said in the statement.\",\n",
       " \"Does the statement overemphasize, or show emotions different from the input story? Please answer 'yes' or 'no'. Make sure to think carefully about what is said in the input story VS what is said in the statement.\",\n",
       " \"Does the statement give a different impression than the input story of whether the defendant has or wants to self-improve (eg counselling) or prevent the offense from happening again? Please answer 'yes' or 'no'. Make sure to think carefully about what is said in the input story VS what is said in the statement.\",\n",
       " \"Does the statement overemphasize, or show emotions different from the input story? Please answer 'yes' or 'no'. Make sure to think carefully about what is said in the input story VS what is said in the statement.\",\n",
       " \"Does the statement break the rule 'only mention the defendant's age if it is outside of the interval 30-79'? Please answer 'yes' or 'no'. Make sure to think carefully about what is said in the input story VS what is said in the statement.\",\n",
       " \"Is anything in the statement badly phrased or difficult to follow? Please answer 'yes' or 'no'. Make sure to think carefully about what is said in the input story VS what is said in the statement.\",\n",
       " \"Does the statement give a different impression (compared to the input story) of whether the defendant has already suffered as a consequence of their crime? We don't consider emotional stress or what may happen in the future as suffering. Please answer 'yes' or 'no'. Make sure to think carefully about what is said in the input story VS what is said in the statement.\",\n",
       " \"Does the statement give a different impression (compared to the input story) of whether the defendant has already suffered as a consequence of their crime? We don't consider emotional stress or what may happen in the future as suffering. Please answer 'yes' or 'no'. Make sure to think carefully about what is said in the input story VS what is said in the statement.\",\n",
       " \"Does the statement give a different impression than the input story of whether the defendant has or want to make amends or 'make up' for the crime? Please answer 'yes' or 'no'. Make sure to think carefully about what is said in the input story VS what is said in the statement.\",\n",
       " \"Is there any information in the statement that is unsupported by the input story? Please answer 'yes' or 'no'. Make sure to think carefully about what is said in the input story VS what is said in the statement.\",\n",
       " \"Is anything in the statement badly phrased or difficult to follow? Please answer 'yes' or 'no'. Make sure to think carefully about what is said in the input story VS what is said in the statement.\",\n",
       " \"Does the statement give a different impression than the input story of whether the defendant has or wants to self-improve (eg counselling) or prevent the offense from happening again? Please answer 'yes' or 'no'. Make sure to think carefully about what is said in the input story VS what is said in the statement.\",\n",
       " \"Is anything in the statement badly phrased or difficult to follow? Please answer 'yes' or 'no'. Make sure to think carefully about what is said in the input story VS what is said in the statement.\",\n",
       " \"Is anything in the statement badly phrased or difficult to follow? Please answer 'yes' or 'no'. Make sure to think carefully about what is said in the input story VS what is said in the statement.\",\n",
       " \"Does the statement overemphasize, or show emotions different from the input story? Please answer 'yes' or 'no'. Make sure to think carefully about what is said in the input story VS what is said in the statement.\",\n",
       " \"Does the statement overemphasize, or show emotions different from the input story? Please answer 'yes' or 'no'. Make sure to think carefully about what is said in the input story VS what is said in the statement.\",\n",
       " \"Does the statement miss or add important parts of explaining the offense (and the defendant's involvement in it), compared to the input story? Please answer 'yes' or 'no'. Make sure to think carefully about what is said in the input story VS what is said in the statement.\",\n",
       " \"Does the statement break the rule 'only mention the defendant's age if it is outside of the interval 30-79'? Please answer 'yes' or 'no'. Make sure to think carefully about what is said in the input story VS what is said in the statement.\",\n",
       " \"Does the statement ignore the importance of the defendant's guilty plea (an important mitigating factor)? Please answer 'yes' or 'no'. Make sure to think carefully about what is said in the input story VS what is said in the statement.\",\n",
       " \"Does the statement miss or add important parts of explaining the offense (and the defendant's involvement in it), compared to the input story? Please answer 'yes' or 'no'. Make sure to think carefully about what is said in the input story VS what is said in the statement.\",\n",
       " \"Is anything in the statement badly phrased or difficult to follow? Please answer 'yes' or 'no'. Make sure to think carefully about what is said in the input story VS what is said in the statement.\",\n",
       " \"Does the statement and input story seem to disagree on whether the defendant has a prior criminal record? Please answer 'yes' or 'no'. Make sure to think carefully about what is said in the input story VS what is said in the statement.\",\n",
       " \"Does the statement give a different impression than the input story of whether the defendant has or want to make amends or 'make up' for the crime? Please answer 'yes' or 'no'. Make sure to think carefully about what is said in the input story VS what is said in the statement.\",\n",
       " \"Does the statement give a different impression than the input story of whether the defendant has or want to make amends or 'make up' for the crime? Please answer 'yes' or 'no'. Make sure to think carefully about what is said in the input story VS what is said in the statement.\",\n",
       " \"Does the statement give a different impression than the input story of whether the defendant has or wants to self-improve (eg counselling) or prevent the offense from happening again? Please answer 'yes' or 'no'. Make sure to think carefully about what is said in the input story VS what is said in the statement.\",\n",
       " \"Does the statement break the rule 'only mention the defendant's age if it is outside of the interval 30-79'? Please answer 'yes' or 'no'. Make sure to think carefully about what is said in the input story VS what is said in the statement.\",\n",
       " \"Is anything in the statement badly phrased or difficult to follow? Please answer 'yes' or 'no'. Make sure to think carefully about what is said in the input story VS what is said in the statement.\",\n",
       " \"Does the statement miss or add important parts of explaining the offense (and the defendant's involvement in it), compared to the input story? Please answer 'yes' or 'no'. Make sure to think carefully about what is said in the input story VS what is said in the statement.\",\n",
       " \"Does the statement and input story seem to disagree on whether the defendant has a prior criminal record? Please answer 'yes' or 'no'. Make sure to think carefully about what is said in the input story VS what is said in the statement.\",\n",
       " \"Does the statement ignore the importance of the defendant's guilty plea (an important mitigating factor)? Please answer 'yes' or 'no'. Make sure to think carefully about what is said in the input story VS what is said in the statement.\",\n",
       " \"Does the statement break the rule 'only mention the defendant's age if it is outside of the interval 30-79'? Please answer 'yes' or 'no'. Make sure to think carefully about what is said in the input story VS what is said in the statement.\",\n",
       " \"Does the statement ignore the importance of the defendant's guilty plea (an important mitigating factor)? Please answer 'yes' or 'no'. Make sure to think carefully about what is said in the input story VS what is said in the statement.\",\n",
       " \"Does the statement break the rule 'only mention the defendant's age if it is outside of the interval 30-79'? Please answer 'yes' or 'no'. Make sure to think carefully about what is said in the input story VS what is said in the statement.\",\n",
       " \"Does the statement miss or add important parts of explaining the offense (and the defendant's involvement in it), compared to the input story? Please answer 'yes' or 'no'. Make sure to think carefully about what is said in the input story VS what is said in the statement.\",\n",
       " \"Does the statement ignore the importance of the defendant's guilty plea (an important mitigating factor)? Please answer 'yes' or 'no'. Make sure to think carefully about what is said in the input story VS what is said in the statement.\",\n",
       " \"Does the statement give a different impression than the input story of whether the defendant has or wants to self-improve (eg counselling) or prevent the offense from happening again? Please answer 'yes' or 'no'. Make sure to think carefully about what is said in the input story VS what is said in the statement.\",\n",
       " \"Does the statement give a different impression than the input story of whether the defendant has or want to make amends or 'make up' for the crime? Please answer 'yes' or 'no'. Make sure to think carefully about what is said in the input story VS what is said in the statement.\",\n",
       " \"Is there any information in the statement that is unsupported by the input story? Please answer 'yes' or 'no'. Make sure to think carefully about what is said in the input story VS what is said in the statement.\",\n",
       " \"Does the statement contain any misplaced information for a plea in mitigation (eg mentioning the 'input story' or another statement)? Please answer 'yes' or 'no'. Make sure to think carefully about what is said in the input story VS what is said in the statement.\",\n",
       " \"Is anything in the statement badly phrased or difficult to follow? Please answer 'yes' or 'no'. Make sure to think carefully about what is said in the input story VS what is said in the statement.\",\n",
       " \"Does the statement and input story seem to disagree on whether the defendant has a prior criminal record? Please answer 'yes' or 'no'. Make sure to think carefully about what is said in the input story VS what is said in the statement.\",\n",
       " \"Does the statement give a different impression than the input story of whether the defendant has or want to make amends or 'make up' for the crime? Please answer 'yes' or 'no'. Make sure to think carefully about what is said in the input story VS what is said in the statement.\",\n",
       " \"Does the statement overemphasize, or show emotions different from the input story? Please answer 'yes' or 'no'. Make sure to think carefully about what is said in the input story VS what is said in the statement.\",\n",
       " \"Does the statement give a different impression (compared to the input story) of whether the defendant has already suffered as a consequence of their crime? We don't consider emotional stress or what may happen in the future as suffering. Please answer 'yes' or 'no'. Make sure to think carefully about what is said in the input story VS what is said in the statement.\",\n",
       " \"Does the statement ignore the importance of the defendant's guilty plea (an important mitigating factor)? Please answer 'yes' or 'no'. Make sure to think carefully about what is said in the input story VS what is said in the statement.\",\n",
       " \"Does the statement contain any misplaced information for a plea in mitigation (eg mentioning the 'input story' or another statement)? Please answer 'yes' or 'no'. Make sure to think carefully about what is said in the input story VS what is said in the statement.\",\n",
       " \"Does the statement overemphasize, or show emotions different from the input story? Please answer 'yes' or 'no'. Make sure to think carefully about what is said in the input story VS what is said in the statement.\",\n",
       " \"Is anything in the statement badly phrased or difficult to follow? Please answer 'yes' or 'no'. Make sure to think carefully about what is said in the input story VS what is said in the statement.\",\n",
       " \"Does the statement overemphasize, or show emotions different from the input story? Please answer 'yes' or 'no'. Make sure to think carefully about what is said in the input story VS what is said in the statement.\",\n",
       " \"Does the statement overemphasize, or show emotions different from the input story? Please answer 'yes' or 'no'. Make sure to think carefully about what is said in the input story VS what is said in the statement.\",\n",
       " \"Does the statement break the rule 'only mention the defendant's age if it is outside of the interval 30-79'? Please answer 'yes' or 'no'. Make sure to think carefully about what is said in the input story VS what is said in the statement.\",\n",
       " \"Does the statement ignore the importance of the defendant's guilty plea (an important mitigating factor)? Please answer 'yes' or 'no'. Make sure to think carefully about what is said in the input story VS what is said in the statement.\",\n",
       " \"Does the statement break the rule 'only mention the defendant's age if it is outside of the interval 30-79'? Please answer 'yes' or 'no'. Make sure to think carefully about what is said in the input story VS what is said in the statement.\",\n",
       " \"Is there any information in the statement that is unsupported by the input story? Please answer 'yes' or 'no'. Make sure to think carefully about what is said in the input story VS what is said in the statement.\",\n",
       " \"Does the statement give a different impression than the input story of whether the defendant has or wants to self-improve (eg counselling) or prevent the offense from happening again? Please answer 'yes' or 'no'. Make sure to think carefully about what is said in the input story VS what is said in the statement.\",\n",
       " \"Does the statement overemphasize, or show emotions different from the input story? Please answer 'yes' or 'no'. Make sure to think carefully about what is said in the input story VS what is said in the statement.\",\n",
       " \"Does the statement give a different impression than the input story of whether the defendant has or want to make amends or 'make up' for the crime? Please answer 'yes' or 'no'. Make sure to think carefully about what is said in the input story VS what is said in the statement.\",\n",
       " \"Does the statement give a different impression than the input story of whether the defendant has or wants to self-improve (eg counselling) or prevent the offense from happening again? Please answer 'yes' or 'no'. Make sure to think carefully about what is said in the input story VS what is said in the statement.\",\n",
       " \"Does the statement give a different impression than the input story of whether the defendant has or want to make amends or 'make up' for the crime? Please answer 'yes' or 'no'. Make sure to think carefully about what is said in the input story VS what is said in the statement.\",\n",
       " \"Does the statement overemphasize, or show emotions different from the input story? Please answer 'yes' or 'no'. Make sure to think carefully about what is said in the input story VS what is said in the statement.\",\n",
       " \"Is anything in the statement badly phrased or difficult to follow? Please answer 'yes' or 'no'. Make sure to think carefully about what is said in the input story VS what is said in the statement.\",\n",
       " \"Does the statement miss or add important parts of explaining the offense (and the defendant's involvement in it), compared to the input story? Please answer 'yes' or 'no'. Make sure to think carefully about what is said in the input story VS what is said in the statement.\",\n",
       " \"Does the statement ignore the importance of the defendant's guilty plea (an important mitigating factor)? Please answer 'yes' or 'no'. Make sure to think carefully about what is said in the input story VS what is said in the statement.\",\n",
       " \"Does the statement break the rule 'only mention the defendant's age if it is outside of the interval 30-79'? Please answer 'yes' or 'no'. Make sure to think carefully about what is said in the input story VS what is said in the statement.\",\n",
       " \"Does the statement and input story seem to disagree on whether the defendant has a prior criminal record? Please answer 'yes' or 'no'. Make sure to think carefully about what is said in the input story VS what is said in the statement.\",\n",
       " \"Does the statement fail to mention any mental illness or disability (if the defendant has this)? Please answer 'yes' or 'no'. Make sure to think carefully about what is said in the input story VS what is said in the statement.\",\n",
       " \"Does the statement give a different impression than the input story of whether the defendant has or want to make amends or 'make up' for the crime? Please answer 'yes' or 'no'. Make sure to think carefully about what is said in the input story VS what is said in the statement.\",\n",
       " \"Does the statement give a different impression than the input story of whether the defendant has or wants to self-improve (eg counselling) or prevent the offense from happening again? Please answer 'yes' or 'no'. Make sure to think carefully about what is said in the input story VS what is said in the statement.\",\n",
       " \"Does the statement give a different impression than the input story of the defendant's good character (for example contributing to the community in some way)? Please answer 'yes' or 'no'. Make sure to think carefully about what is said in the input story VS what is said in the statement.\",\n",
       " \"Does the statement give a different impression (compared to the input story) of whether the defendant has already suffered as a consequence of their crime? We don't consider emotional stress or what may happen in the future as suffering. Please answer 'yes' or 'no'. Make sure to think carefully about what is said in the input story VS what is said in the statement.\",\n",
       " \"Is there any information in the statement that is unsupported by the input story? Please answer 'yes' or 'no'. Make sure to think carefully about what is said in the input story VS what is said in the statement.\",\n",
       " \"Does the statement contain any misplaced information for a plea in mitigation (eg mentioning the 'input story' or another statement)? Please answer 'yes' or 'no'. Make sure to think carefully about what is said in the input story VS what is said in the statement.\",\n",
       " \"Does the statement give a different impression (compared to the input story) of whether the defendant has already suffered as a consequence of their crime? We don't consider emotional stress or what may happen in the future as suffering. Please answer 'yes' or 'no'. Make sure to think carefully about what is said in the input story VS what is said in the statement.\",\n",
       " \"Does the statement overemphasize, or show emotions different from the input story? Please answer 'yes' or 'no'. Make sure to think carefully about what is said in the input story VS what is said in the statement.\",\n",
       " \"Is anything in the statement badly phrased or difficult to follow? Please answer 'yes' or 'no'. Make sure to think carefully about what is said in the input story VS what is said in the statement.\",\n",
       " \"Does the statement miss or add important parts of explaining the offense (and the defendant's involvement in it), compared to the input story? Please answer 'yes' or 'no'. Make sure to think carefully about what is said in the input story VS what is said in the statement.\",\n",
       " \"Does the statement ignore the importance of the defendant's guilty plea (an important mitigating factor)? Please answer 'yes' or 'no'. Make sure to think carefully about what is said in the input story VS what is said in the statement.\",\n",
       " \"Does the statement break the rule 'only mention the defendant's age if it is outside of the interval 30-79'? Please answer 'yes' or 'no'. Make sure to think carefully about what is said in the input story VS what is said in the statement.\",\n",
       " \"Does the statement and input story seem to disagree on whether the defendant has a prior criminal record? Please answer 'yes' or 'no'. Make sure to think carefully about what is said in the input story VS what is said in the statement.\",\n",
       " \"Does the statement fail to mention any mental illness or disability (if the defendant has this)? Please answer 'yes' or 'no'. Make sure to think carefully about what is said in the input story VS what is said in the statement.\",\n",
       " \"Does the statement give a different impression than the input story of whether the defendant has or want to make amends or 'make up' for the crime? Please answer 'yes' or 'no'. Make sure to think carefully about what is said in the input story VS what is said in the statement.\",\n",
       " \"Does the statement give a different impression than the input story of whether the defendant has or wants to self-improve (eg counselling) or prevent the offense from happening again? Please answer 'yes' or 'no'. Make sure to think carefully about what is said in the input story VS what is said in the statement.\",\n",
       " \"Does the statement give a different impression than the input story of the defendant's good character (for example contributing to the community in some way)? Please answer 'yes' or 'no'. Make sure to think carefully about what is said in the input story VS what is said in the statement.\",\n",
       " \"Does the statement give a different impression (compared to the input story) of whether the defendant has already suffered as a consequence of their crime? We don't consider emotional stress or what may happen in the future as suffering. Please answer 'yes' or 'no'. Make sure to think carefully about what is said in the input story VS what is said in the statement.\",\n",
       " \"Is there any information in the statement that is unsupported by the input story? Please answer 'yes' or 'no'. Make sure to think carefully about what is said in the input story VS what is said in the statement.\",\n",
       " \"Does the statement contain any misplaced information for a plea in mitigation (eg mentioning the 'input story' or another statement)? Please answer 'yes' or 'no'. Make sure to think carefully about what is said in the input story VS what is said in the statement.\",\n",
       " \"Does the statement overemphasize, or show emotions different from the input story? Please answer 'yes' or 'no'. Make sure to think carefully about what is said in the input story VS what is said in the statement.\",\n",
       " \"Is anything in the statement badly phrased or difficult to follow? Please answer 'yes' or 'no'. Make sure to think carefully about what is said in the input story VS what is said in the statement.\",\n",
       " \"Does the statement miss or add important parts of explaining the offense (and the defendant's involvement in it), compared to the input story? Please answer 'yes' or 'no'. Make sure to think carefully about what is said in the input story VS what is said in the statement.\",\n",
       " \"Does the statement ignore the importance of the defendant's guilty plea (an important mitigating factor)? Please answer 'yes' or 'no'. Make sure to think carefully about what is said in the input story VS what is said in the statement.\",\n",
       " \"Does the statement break the rule 'only mention the defendant's age if it is outside of the interval 30-79'? Please answer 'yes' or 'no'. Make sure to think carefully about what is said in the input story VS what is said in the statement.\",\n",
       " \"Does the statement and input story seem to disagree on whether the defendant has a prior criminal record? Please answer 'yes' or 'no'. Make sure to think carefully about what is said in the input story VS what is said in the statement.\",\n",
       " \"Does the statement fail to mention any mental illness or disability (if the defendant has this)? Please answer 'yes' or 'no'. Make sure to think carefully about what is said in the input story VS what is said in the statement.\",\n",
       " \"Does the statement give a different impression than the input story of whether the defendant has or want to make amends or 'make up' for the crime? Please answer 'yes' or 'no'. Make sure to think carefully about what is said in the input story VS what is said in the statement.\",\n",
       " \"Does the statement give a different impression than the input story of whether the defendant has or wants to self-improve (eg counselling) or prevent the offense from happening again? Please answer 'yes' or 'no'. Make sure to think carefully about what is said in the input story VS what is said in the statement.\",\n",
       " \"Does the statement give a different impression than the input story of the defendant's good character (for example contributing to the community in some way)? Please answer 'yes' or 'no'. Make sure to think carefully about what is said in the input story VS what is said in the statement.\",\n",
       " \"Does the statement give a different impression (compared to the input story) of whether the defendant has already suffered as a consequence of their crime? We don't consider emotional stress or what may happen in the future as suffering. Please answer 'yes' or 'no'. Make sure to think carefully about what is said in the input story VS what is said in the statement.\",\n",
       " \"Is there any information in the statement that is unsupported by the input story? Please answer 'yes' or 'no'. Make sure to think carefully about what is said in the input story VS what is said in the statement.\",\n",
       " \"Does the statement contain any misplaced information for a plea in mitigation (eg mentioning the 'input story' or another statement)? Please answer 'yes' or 'no'. Make sure to think carefully about what is said in the input story VS what is said in the statement.\",\n",
       " \"Does the statement give a different impression (compared to the input story) of whether the defendant has already suffered as a consequence of their crime? We don't consider emotional stress or what may happen in the future as suffering. Please answer 'yes' or 'no'. Make sure to think carefully about what is said in the input story VS what is said in the statement.\",\n",
       " \"Is there any information in the statement that is unsupported by the input story? Please answer 'yes' or 'no'. Make sure to think carefully about what is said in the input story VS what is said in the statement.\",\n",
       " \"Does the statement miss or add important parts of explaining the offense (and the defendant's involvement in it), compared to the input story? Please answer 'yes' or 'no'. Make sure to think carefully about what is said in the input story VS what is said in the statement.\",\n",
       " \"Does the statement give a different impression than the input story of whether the defendant has or wants to self-improve (eg counselling) or prevent the offense from happening again? Please answer 'yes' or 'no'. Make sure to think carefully about what is said in the input story VS what is said in the statement.\",\n",
       " \"Does the statement and input story seem to disagree on whether the defendant has a prior criminal record? Please answer 'yes' or 'no'. Make sure to think carefully about what is said in the input story VS what is said in the statement.\",\n",
       " \"Does the statement fail to mention any mental illness or disability (if the defendant has this)? Please answer 'yes' or 'no'. Make sure to think carefully about what is said in the input story VS what is said in the statement.\",\n",
       " \"Does the statement fail to mention any mental illness or disability (if the defendant has this)? Please answer 'yes' or 'no'. Make sure to think carefully about what is said in the input story VS what is said in the statement.\",\n",
       " \"Does the statement give a different impression than the input story of whether the defendant has or wants to self-improve (eg counselling) or prevent the offense from happening again? Please answer 'yes' or 'no'. Make sure to think carefully about what is said in the input story VS what is said in the statement.\",\n",
       " \"Does the statement miss or add important parts of explaining the offense (and the defendant's involvement in it), compared to the input story? Please answer 'yes' or 'no'. Make sure to think carefully about what is said in the input story VS what is said in the statement.\",\n",
       " \"Does the statement miss or add important parts of explaining the offense (and the defendant's involvement in it), compared to the input story? Please answer 'yes' or 'no'. Make sure to think carefully about what is said in the input story VS what is said in the statement.\",\n",
       " \"Does the statement give a different impression than the input story of whether the defendant has or want to make amends or 'make up' for the crime? Please answer 'yes' or 'no'. Make sure to think carefully about what is said in the input story VS what is said in the statement.\",\n",
       " \"Does the statement give a different impression than the input story of whether the defendant has or want to make amends or 'make up' for the crime? Please answer 'yes' or 'no'. Make sure to think carefully about what is said in the input story VS what is said in the statement.\",\n",
       " \"Does the statement overemphasize, or show emotions different from the input story? Please answer 'yes' or 'no'. Make sure to think carefully about what is said in the input story VS what is said in the statement.\",\n",
       " \"Does the statement overemphasize, or show emotions different from the input story? Please answer 'yes' or 'no'. Make sure to think carefully about what is said in the input story VS what is said in the statement.\",\n",
       " \"Does the statement give a different impression (compared to the input story) of whether the defendant has already suffered as a consequence of their crime? We don't consider emotional stress or what may happen in the future as suffering. Please answer 'yes' or 'no'. Make sure to think carefully about what is said in the input story VS what is said in the statement.\",\n",
       " \"Does the statement give a different impression (compared to the input story) of whether the defendant has already suffered as a consequence of their crime? We don't consider emotional stress or what may happen in the future as suffering. Please answer 'yes' or 'no'. Make sure to think carefully about what is said in the input story VS what is said in the statement.\",\n",
       " \"Does the statement give a different impression (compared to the input story) of whether the defendant has already suffered as a consequence of their crime? We don't consider emotional stress or what may happen in the future as suffering. Please answer 'yes' or 'no'. Make sure to think carefully about what is said in the input story VS what is said in the statement.\",\n",
       " \"Does the statement give a different impression (compared to the input story) of whether the defendant has already suffered as a consequence of their crime? We don't consider emotional stress or what may happen in the future as suffering. Please answer 'yes' or 'no'. Make sure to think carefully about what is said in the input story VS what is said in the statement.\",\n",
       " \"Does the statement give a different impression than the input story of the defendant's good character (for example contributing to the community in some way)? Please answer 'yes' or 'no'. Make sure to think carefully about what is said in the input story VS what is said in the statement.\",\n",
       " \"Does the statement give a different impression than the input story of whether the defendant has or want to make amends or 'make up' for the crime? Please answer 'yes' or 'no'. Make sure to think carefully about what is said in the input story VS what is said in the statement.\",\n",
       " \"Does the statement give a different impression than the input story of whether the defendant has or want to make amends or 'make up' for the crime? Please answer 'yes' or 'no'. Make sure to think carefully about what is said in the input story VS what is said in the statement.\",\n",
       " \"Does the statement give a different impression than the input story of whether the defendant has or wants to self-improve (eg counselling) or prevent the offense from happening again? Please answer 'yes' or 'no'. Make sure to think carefully about what is said in the input story VS what is said in the statement.\",\n",
       " \"Does the statement give a different impression (compared to the input story) of whether the defendant has already suffered as a consequence of their crime? We don't consider emotional stress or what may happen in the future as suffering. Please answer 'yes' or 'no'. Make sure to think carefully about what is said in the input story VS what is said in the statement.\",\n",
       " \"Does the statement give a different impression (compared to the input story) of whether the defendant has already suffered as a consequence of their crime? We don't consider emotional stress or what may happen in the future as suffering. Please answer 'yes' or 'no'. Make sure to think carefully about what is said in the input story VS what is said in the statement.\",\n",
       " \"Does the statement give a different impression than the input story of whether the defendant has or want to make amends or 'make up' for the crime? Please answer 'yes' or 'no'. Make sure to think carefully about what is said in the input story VS what is said in the statement.\",\n",
       " \"Does the statement and input story seem to disagree on whether the defendant has a prior criminal record? Please answer 'yes' or 'no'. Make sure to think carefully about what is said in the input story VS what is said in the statement.\",\n",
       " \"Does the statement give a different impression than the input story of whether the defendant has or wants to self-improve (eg counselling) or prevent the offense from happening again? Please answer 'yes' or 'no'. Make sure to think carefully about what is said in the input story VS what is said in the statement.\",\n",
       " \"Is there any information in the statement that is unsupported by the input story? Please answer 'yes' or 'no'. Make sure to think carefully about what is said in the input story VS what is said in the statement.\",\n",
       " \"Is there any information in the statement that is unsupported by the input story? Please answer 'yes' or 'no'. Make sure to think carefully about what is said in the input story VS what is said in the statement.\",\n",
       " \"Does the statement and input story seem to disagree on whether the defendant has a prior criminal record? Please answer 'yes' or 'no'. Make sure to think carefully about what is said in the input story VS what is said in the statement.\",\n",
       " \"Does the statement contain any misplaced information for a plea in mitigation (eg mentioning the 'input story' or another statement)? Please answer 'yes' or 'no'. Make sure to think carefully about what is said in the input story VS what is said in the statement.\",\n",
       " \"Does the statement contain any misplaced information for a plea in mitigation (eg mentioning the 'input story' or another statement)? Please answer 'yes' or 'no'. Make sure to think carefully about what is said in the input story VS what is said in the statement.\",\n",
       " \"Does the statement contain any misplaced information for a plea in mitigation (eg mentioning the 'input story' or another statement)? Please answer 'yes' or 'no'. Make sure to think carefully about what is said in the input story VS what is said in the statement.\",\n",
       " \"Does the statement contain any misplaced information for a plea in mitigation (eg mentioning the 'input story' or another statement)? Please answer 'yes' or 'no'. Make sure to think carefully about what is said in the input story VS what is said in the statement.\",\n",
       " \"Does the statement fail to mention any mental illness or disability (if the defendant has this)? Please answer 'yes' or 'no'. Make sure to think carefully about what is said in the input story VS what is said in the statement.\",\n",
       " \"Does the statement miss or add important parts of explaining the offense (and the defendant's involvement in it), compared to the input story? Please answer 'yes' or 'no'. Make sure to think carefully about what is said in the input story VS what is said in the statement.\",\n",
       " \"Is there any information in the statement that is unsupported by the input story? Please answer 'yes' or 'no'. Make sure to think carefully about what is said in the input story VS what is said in the statement.\",\n",
       " \"Does the statement miss or add important parts of explaining the offense (and the defendant's involvement in it), compared to the input story? Please answer 'yes' or 'no'. Make sure to think carefully about what is said in the input story VS what is said in the statement.\",\n",
       " \"Does the statement and input story seem to disagree on whether the defendant has a prior criminal record? Please answer 'yes' or 'no'. Make sure to think carefully about what is said in the input story VS what is said in the statement.\",\n",
       " \"Does the statement and input story seem to disagree on whether the defendant has a prior criminal record? Please answer 'yes' or 'no'. Make sure to think carefully about what is said in the input story VS what is said in the statement.\",\n",
       " \"Does the statement and input story seem to disagree on whether the defendant has a prior criminal record? Please answer 'yes' or 'no'. Make sure to think carefully about what is said in the input story VS what is said in the statement.\",\n",
       " \"Does the statement give a different impression than the input story of whether the defendant has or want to make amends or 'make up' for the crime? Please answer 'yes' or 'no'. Make sure to think carefully about what is said in the input story VS what is said in the statement.\",\n",
       " \"Does the statement give a different impression (compared to the input story) of whether the defendant has already suffered as a consequence of their crime? We don't consider emotional stress or what may happen in the future as suffering. Please answer 'yes' or 'no'. Make sure to think carefully about what is said in the input story VS what is said in the statement.\",\n",
       " \"Does the statement give a different impression than the input story of the defendant's good character (for example contributing to the community in some way)? Please answer 'yes' or 'no'. Make sure to think carefully about what is said in the input story VS what is said in the statement.\",\n",
       " \"Does the statement give a different impression than the input story of the defendant's good character (for example contributing to the community in some way)? Please answer 'yes' or 'no'. Make sure to think carefully about what is said in the input story VS what is said in the statement.\"]"
      ]
     },
     "execution_count": 4,
     "metadata": {},
     "output_type": "execute_result"
    }
   ],
   "source": [
    "data['train']['instruction']"
   ]
  },
  {
   "cell_type": "code",
   "execution_count": 5,
   "metadata": {},
   "outputs": [
    {
     "name": "stdout",
     "output_type": "stream",
     "text": [
      "### INPUT STORY: My name is Ronald Smith and I hit a guy. I am 32 years old and have never done anything like this. I had been drinking with some friends and then this guy said something very rude to my friend, so I got really angry and lost control for a moment.\n",
      "### STATEMENT: Your Honor, I stand before you today to take full responsibility for my actions. On the night in question, I had been drinking with some friends when a guy said something very rude to my friend. In my anger, I lost control and hit him. I want to make it clear that I am not offering any excuses for what happened that night. However, I do believe that my lack of criminal record and good character show that this was a momentary lapse in judgement rather than a pattern of behavior. I am pleading guilty as a mitigating factor in the hope that the court will take this into account when sentencing me. I understand the seriousness of my actions and am willing to cooperate with authorities to make things right. Furthermore, I would like to express my willingness to take actions to prevent committing the same offense again. Additionally, I understand the need for compensation for the harm done to the victim and am willing to take steps towards making this happen. In conclusion, while I cannot change what happened on that night, I hope that this court will consider all of the mitigating factors presented and show leniency in its sentencing. Thank you for your time and attention.\n",
      "### INPUT STORY: My name is Ronald Smith and I hit a guy. I am 32 years old and have never done anything like this. I had been drinking with some friends and then this guy said something very rude to my friend, so I got really angry and lost control for a moment.\n",
      "### STATEMENT: Your Honor, I stand before you today to take full responsibility for my actions. On the night in question, I had been drinking with some friends when a guy said something very rude to my friend. In my anger, I lost control and hit him. I want to make it clear that I am not offering any excuses for what happened that night. However, I do believe that my lack of criminal record and good character show that this was a momentary lapse in judgement rather than a pattern of behavior. I am pleading guilty as a mitigating factor in the hope that the court will take this into account when sentencing me. I understand the seriousness of my actions and am willing to cooperate with authorities to make things right. Furthermore, I would like to express my willingness to take actions to prevent committing the same offense again. Additionally, I understand the need for compensation for the harm done to the victim and am willing to take steps towards making this happen. In conclusion, while I cannot change what happened on that night, I hope that this court will consider all of the mitigating factors presented and show leniency in its sentencing. Thank you for your time and attention.\n"
     ]
    }
   ],
   "source": [
    "for i in range(2):\n",
    "    inp = data['train']['input'][i]\n",
    "    print(inp)"
   ]
  },
  {
   "cell_type": "code",
   "execution_count": 6,
   "metadata": {},
   "outputs": [
    {
     "name": "stdout",
     "output_type": "stream",
     "text": [
      "[273 211 222  77 275 140 135 124 256  85  19 190 142 156 272 111 191  97\n",
      " 154  24]\n"
     ]
    }
   ],
   "source": [
    "gpt4_prompt = \"You will be presented with an input story, a statement, a question about the input story or statement, and the correct answer to the question. Please provide an explanation for why this is the correct answer by using quotes from the input story and statement. Here are a few principles that the statement should satisfy, and they might me useful in your explanation: \"\n",
    "explanations = []\n",
    "data_points = np.array([273, 211, 222,  77, 275, 140, 135, 124, 256,  85,  19, 190, 142, 156, 272, 111, 191,  97, 154,  24])\n",
    "print(data_points)\n",
    "for j in range(12, len(data_points)):\n",
    "    i = data_points[j]\n",
    "    print(i)\n",
    "    inp = data['train']['input'][i].split(\"### \")\n",
    "    q = data['train']['instruction'][i].split(\"Please answer 'yes' or 'no'.\")[0].strip()\n",
    "    ans = data['train']['output'][i]\n",
    "    chat_log = [{\"role\": \"system\", \"content\": gpt4_prompt + principles},\n",
    "                {\"role\": \"user\", \"content\": inp[1].strip() + \"\\n\" + inp[2] + \"\\nQUESTION: \" + q + \"\\nANSWER: \"+ans + \"\\nEXPLANATION: \"}]\n",
    "    explanation = answ = openai.ChatCompletion.create(\n",
    "            model=\"gpt-4-0613\",\n",
    "            messages=chat_log\n",
    "        )\n",
    "    explanations.append(explanation)"
   ]
  },
  {
   "cell_type": "code",
   "execution_count": 7,
   "metadata": {},
   "outputs": [
    {
     "data": {
      "text/plain": [
       "array([273, 211, 222,  77, 275, 140, 135, 124, 256,  85,  19, 190, 142,\n",
       "       156, 272, 111, 191,  97, 154,  24])"
      ]
     },
     "execution_count": 7,
     "metadata": {},
     "output_type": "execute_result"
    }
   ],
   "source": [
    "data_points"
   ]
  },
  {
   "cell_type": "code",
   "execution_count": 14,
   "metadata": {},
   "outputs": [
    {
     "name": "stdout",
     "output_type": "stream",
     "text": [
      "191\n",
      "Q:  Does the statement give a different impression than the input story of whether the defendant has or wants to self-improve (eg counselling) or prevent the offense from happening again?\n",
      "A:  yes\n",
      "STATEMENT: Your Honor, I stand before you today as a defendant, acknowledging my guilt and pleading guilty to the offense of drunk driving. This guilty plea is an essential element that benefits the court and demonstrates my sincere remorse and acceptance of full responsibility for the consequences of my poor judgment. The incident occurred when my 8-year-old child urgently requested to come home after dinner. Unfortunately, in my haste to be there for my child, I made the ill-advised decision to get behind the wheel of my car after consuming a few glasses of wine. I deeply regret my actions and take full responsibility for them. I understand and am fully aware of the severity of my actions and the potential harm they could have caused, not only to myself and my son but also to other innocent individuals on the road. The embarrassment and shame I feel for allowing myself to be in such a reckless state are immeasurable. In terms of my involvement, I would like to highlight that I have maintained a clean record with the exception of 3 penalty points on my driver's license issued for speeding. Throughout my life, I have always strived to be a law-abiding citizen and to ensure the safety of those around me. It is crucial to acknowledge that my guilty plea is a significant mitigating factor, emphasizing my remorse and willingness to cooperate with the court proceedings. By pleading guilty, I am demonstrating the utmost sincerity in accepting the consequences of my actions and showing respect for the legal process. At 43 years old, this incident has served as a profound wake-up call for me to reevaluate my choices and prioritize the well-being of my son. Ensuring transportation to and from school is an essential responsibility I hold as a parent, and losing my driver's license would not only inconvenience me but also hinder my ability to fulfill this crucial duty. Recognizing the gravity of this situation, I have taken immediate action to rectify my mistakes. I have attended alcohol awareness classes and sought counseling to address and rectify my behavior. Through these actions, I hope to demonstrate my commitment to personal growth and a complete avoidance of repeating such a reckless act. I deeply regret the harm I have caused and the potential danger I put others in due to my thoughtless actions. I am dedicated to learning from this experience and making amends for my behavior. While I understand that my remorse cannot undo what has been done, I hope that it underlines my sincere desire to take responsibility for my mistake and actively prevent any further harm from occurring. In conclusion, I humbly ask for your understanding and leniency in considering my plea. I am committed to undergoing the necessary steps for rehabilitation and ensuring that this incident is never repeated. Thank you for your time and consideration. Sincerely, Charlotte Wright\n",
      "INPUT STORY: My name is Charlotte Wright and I am pleading guilty to drunk driving. My 8-year-old child was supposed to sleep over at a friend’s house but called me and wanted to go home after dinner. I had already had a few glasses of wine but did not consider that when getting in my car to go pick up my son. Frankly, I am really embarrassed by this incident, and incredibly remorseful, as I understand the severe consequences it could have had – not only for me and my son, but for others on the road as well. I already have 3 penalty points on my driver’s licence for speeding, but my son depends on me driving him to school every day, so I want to see if it is possible to not lose my licence. I’m 43 years old and don’t have anything else on my record.\n",
      "In the input story, Charlotte doesn't state any actions she has taken or plans on taking towards self-improvement or prevention of the offense happening again. She expresses remorse and the desire not to lose her license, but doesn't mention any concrete steps like counseling or attending alcohol awareness classes. However, in the statement, it is mentioned that Charlotte has \"attended alcohol awareness classes and sought counseling to address and rectify my behavior\". This demonstrates a desire and an action towards self-improvement and preventative measures, which is not present in the input story.\n",
      "\n",
      "97\n",
      "Q:  Does the statement contain any misplaced information for a plea in mitigation (eg mentioning the 'input story' or another statement)?\n",
      "A:  no\n",
      "STATEMENT: I, Abbey Davies, am pleading guilty for a one-time offense where I accidentally kicked a soccer ball through a storefront window, which caused damage, but no physical harm, to a few individuals present inside. I was on my way home from soccer practice when I lost control of the ball and it hit the storefront window. I truly regret this incident and feel terrible about it. This is the first time I have ever committed any kind of criminal offense and would like to take full responsibility for my actions. I acknowledge that what I did was wrong and caused harm to someone's property. I am aware that pleading guilty is an important mitigating factor and I am prepared to face the legal consequences of my actions. Moreover, given my clean history, young age, and willingness to take responsibility, I hope to receive a fair sentence that will allow me to learn from my mistake and become a better individual. Finally, I want to stress that I have taken steps to ensure that such an incident will not happen again in the future. I will take care to practice soccer in an open and safe environment, and ensure that I am more careful in ensuring that another person's property or wellbeing is not caused harm or danger. Thank you for considering my plea in mitigation.\n",
      "INPUT STORY: I kicked a football through a storefront window. It was the middle of the day and I was walking home from soccer practice when I lost control of the ball and accidentally hit the window. There were a few people inside, but luckily no one was hurt. I am 19 years old and have never done anything criminal before. And my name is Abbey Davies. I also have a really cute dog named Ollie.\n",
      "The statement does not contain any misplaced information for a plea in mitigation. The defendant, Abbey Davies, does not reference an 'input story' or another statement. All information in the statement such as the nature of the offense, Abbey's age, her clean criminal record, and her regret and sense of responsibility can be verified from the given story. The statement is solely based on the facts as depicted in the story, and it does not contain extraneous or inappropriate information. The mention of Abbey's dog, Ollie, which is present in the story, is also excluded from the statement as it is not relevant for the plea. The overall focus is kept on the offense, the mitigating factor of her plea, as well as her assurance to take steps to avoid the recurrence of such an incident.\n",
      "\n",
      "154\n",
      "Q:  Does the statement break the rule 'only mention the defendant's age if it is outside of the interval 30-79'?\n",
      "A:  yes\n",
      "STATEMENT: Your Honor, I stand before you today, appearing without legal representation, to plead guilty to the charge of tax evasion. I am James Campbell, the owner of a struggling bike shop in town. For the past two years, my business has been facing significant financial challenges, which led me to the regrettable decision of evading my taxes. Under the pressure of mounting expenses and dwindling profits, I made the unfortunate choice of not registering the income I received in cash, failing to provide proper documentation or include it in my books. While I cannot provide an exact figure, I estimate that my unreported earnings amount to approximately 7000 pounds. It is important for me to emphasize that I am pleading guilty to the offense I have committed. I take full responsibility for my actions and acknowledge the seriousness and gravity of my offense. I understand that tax evasion is a breach of trust and undermines the integrity of the financial system. I would like to assure the court that my involvement in this offense was not driven by malice or intentional harm. It is the result of the financial struggle my business has faced, pushing me to make a mistake that I deeply regret. Your Honor, I would like to bring to your attention that I do not have a previous criminal record, aside from a conviction for common assault. While it is unrelated to the present case, it is a reflection of the fact that I have not been involved in any criminal activities since that incident. I want to emphasize that I am genuinely remorseful for my actions. I understand the importance of paying taxes and contributing to society. I have decided to immediately cease the operations of my bike shop and seek a steady job that will allow me to fulfill my obligations properly. By doing so, I aim to ensure that no similar offenses occur in the future. Furthermore, I am willing to take any necessary steps to rectify the harm caused by my actions. While I currently cannot determine the exact amount owed, I am fully prepared to cooperate with the authorities and make the necessary restitution. Your Honor, I am 48 years old, and I mention this as an important aspect of my case. I believe my age reflects a level of maturity and life experience that should be taken into consideration during the sentencing phase. In conclusion, I humbly request the court's leniency and understanding. I plead guilty, demonstrating my acceptance of responsibility for my actions. I assure you that I am committed to rectifying my mistakes and making amends to the best of my abilities. I kindly ask for a fair and just sentence that takes into account the circumstances surrounding my offense and the steps I am taking to ensure it will not be repeated.\n",
      "INPUT STORY: My name is James Campbell. I run a small bike shop in town and I am guilty of tax evasion. My business has not been doing very well the past 2 years, and taxes became an expense I felt like I could not afford. So I didn’t register the work I did that was paid in cash, and did not provide receipts or put it in my books. I’m not sure of the exact amount, but I’m guessing I have failed to register about 7000 pounds. I also have a previous conviction of common assault. I do feel really bad about it and hope I will be able to make amends somehow. I have also decided to put down the business and apply for a steadier job to prevent anything like this from happening again.  I’m 48 years old.\n",
      "The statement mentions that the defendant is 48 years old, which falls within the 30-79 interval. Therefore, according to the rules, the defendant's age should not have been mentioned. The story states, \"I’m 48 years old,\" and the statement repeats this with, \"Your Honor, I am 48 years old.\" Thus, this is why the statement breaks the rule 'only mention the defendant's age if it is outside of the interval 30-79'.\n",
      "\n",
      "24\n",
      "Q:  Does the statement miss or add important parts of explaining the offense (and the defendant's involvement in it), compared to the input story?\n",
      "A:  yes\n",
      "STATEMENT: Your Honor, I stand before you today to take responsibility for my actions. On the night in question, I had been drinking with some friends when an altercation arose between one of my friends and a stranger. The stranger said something very rude, which caused me to lose control for a moment and hit him. I want to emphasize that this behavior is completely out of character for me. I have never been in trouble with the law before and have always tried my best to be a productive member of society. I am filled with deep regret and remorse for what happened that night. Despite the fact that I acted on impulse and without thinking things through, I do not wish to make any excuses or minimize the impact of my actions. Instead, I want to take full responsibility for what happened and plead guilty as a sign of my remorse. If it pleases the court, I would like to highlight some mitigating factors in my case. Firstly, I have no prior criminal record and have always lived a law-abiding life up until this point. Secondly, although alcohol was a factor in this incident, it was an isolated event that does not reflect my usual behavior. Furthermore, while nothing can excuse or justify what happened that night, I do believe that there was some degree of provocation involved. The victim's rude comments towards my friend were hurtful and offensive, which caused me to react impulsively. I would also like to express my willingness to make amends for any harm caused by my actions. If there is anything within my power that can be done to compensate the victim or prevent similar incidents from occurring in the future, please let me know. Finally, I would like to assure the court that this incident has been a wake-up call for me. It has made me realize the dangers of losing control when under the influence of alcohol and has motivated me to seek help so that this never happens again. Thank you for your time and consideration.\n",
      "INPUT STORY: My name is Ronald Smith and I hit a guy. I am 32 years old and have never done anything like this. I had been drinking with some friends and then this guy said something very rude to my friend, so I got really angry and lost control for a moment.\n",
      "The statement does not miss or add important parts of explaining the offense and the defendant's involvement in it compared to the input story. In the statement, Ronald confirms \"I had been drinking with some friends when an altercation arose between one of my friends and a stranger. The stranger said something very rude, which caused me to lose control for a moment and hit him.\" This specific sequence of words aligns perfectly with what Ronald said in the input story: \"...this guy said something very rude to my friend, so I got really angry and lost control for a moment.\" Thus, it is clear that yes, the statement misses neither details nor key information when expressing Ronald's involvement in the offense.\n",
      "\n"
     ]
    }
   ],
   "source": [
    "for j in range(4):\n",
    "    i = j+16\n",
    "    print(data_points[i])\n",
    "    print(\"Q: \", data['train']['instruction'][data_points[i]].split(\"Please answer 'yes' or 'no'.\")[0].strip())\n",
    "    print(\"A: \", data['train']['output'][data_points[i]])\n",
    "    print(data['train']['input'][data_points[i]].split(\"### \")[2])\n",
    "    print(data['train']['input'][data_points[i]].split(\"### \")[1].strip())\n",
    "    print(explanations[j+4][\"choices\"][0][\"message\"][\"content\"])\n",
    "    print(\"\")"
   ]
  },
  {
   "cell_type": "code",
   "execution_count": null,
   "metadata": {},
   "outputs": [],
   "source": [
    "exp_4_evals = [\n",
    "    \"273, Good. Gets main point, and also more (for another principle)\",\n",
    "    \"211, Good enough. Not easy to explain why something is coherent, but does well enough. No quotes.\",\n",
    "    \"222, Good. No quotes, but there is 'no misplaced info', so that is not needed either\",\n",
    "    \"77, Good. Acknowledges that input has no emotions, but statement has loads.\",\n",
    "    \"275, Good. Sees plain mistake in statement (no record, which is false)\",\n",
    "    \"140, Good. Explains emotions in story and statement, and how they cohere.\",\n",
    "    \"135, Good. Quotes the main reason for the satisfied principle.\",\n",
    "    \"124, OK. No amends anywhere, BUT says emotions principle is also good, although this is not the case...\",\n",
    "    \"256, Good. Discusses amends although it is in neither story.\",\n",
    "    \"85, Perfect. Concise and 100percent correct. \",\n",
    "    \"19, Good. Sees the most important breach, but also goes slightly beyond\",\n",
    "    \"190, Good enough. Gives one example, but there is more information that this that is unsupported.\",\n",
    "    \"142, Good. (coherence...)\",\n",
    "    \"156, Good. Points to several important quotes that exist both in statement and story.\",\n",
    "    \"272, Good. Explains in general what is similar, but is missing quotes / more specific examples.\",\n",
    "    \"111, No. The not-coherent part is hitting someone unintentionally, but GPT4 does not catch this.\",\n",
    "    \"191, Good. Sees concrete examples - but also misses one bad quote.\",\n",
    "    \"97, Good. Explains what relevant info is there and what irrelevant info is excluded.\",\n",
    "    \"154, Good. (age is broken)\",\n",
    "    \"24, No. Disagrees with the given answer!:O But answer is not obvious...\"\n",
    "]"
   ]
  },
  {
   "cell_type": "code",
   "execution_count": null,
   "metadata": {},
   "outputs": [],
   "source": [
    "exp_turbo = []\n",
    "for i in data_points:\n",
    "    inp = data['train']['input'][i].split(\"### \")\n",
    "    q = data['train']['instruction'][i].split(\"Please answer 'yes' or 'no'.\")[0].strip()\n",
    "    ans = data['train']['output'][i]\n",
    "    chat_log = [{\"role\": \"system\", \"content\": gpt4_prompt + principles},\n",
    "                {\"role\": \"user\", \"content\": inp[1].strip() + \"\\n\" + inp[2] + \"\\nQUESTION: \" + q + \"\\nANSWER: \"+ans + \"\\nEXPLANATION: \"}]\n",
    "    explanation = openai.ChatCompletion.create(\n",
    "            model=\"gpt-3.5-turbo-0613\",\n",
    "            messages=chat_log\n",
    "        )\n",
    "    exp_turbo.append(explanation)"
   ]
  },
  {
   "cell_type": "code",
   "execution_count": null,
   "metadata": {},
   "outputs": [],
   "source": []
  },
  {
   "cell_type": "markdown",
   "metadata": {},
   "source": [
    "### Notes about using GPT-4"
   ]
  },
  {
   "cell_type": "markdown",
   "metadata": {},
   "source": [
    "- Explanation may reach further than only the principle in question (eg emotions mentions amends; wanting to better manage anger).\n",
    "- And discussion around that other principle might not be correct (eg 124)\n",
    "- When something is not mentioned in either input story or statement, it tends to explain other things\n",
    "- 24: Statement says \"when an altercation arose between one of my friends and a stranger\". But acc to story, there was no altercation - just \"this guy said something very rude to my friend\"."
   ]
  },
  {
   "cell_type": "markdown",
   "metadata": {},
   "source": [
    "All-in-all GPT-4 was correct with quite good explanations 90% of the time (18/20) (counting the amends which was wrong about emotions as good...)"
   ]
  },
  {
   "cell_type": "markdown",
   "metadata": {},
   "source": []
  }
 ],
 "metadata": {
  "kernelspec": {
   "display_name": "Pmix",
   "language": "python",
   "name": "pmix"
  },
  "language_info": {
   "codemirror_mode": {
    "name": "ipython",
    "version": 3
   },
   "file_extension": ".py",
   "mimetype": "text/x-python",
   "name": "python",
   "nbconvert_exporter": "python",
   "pygments_lexer": "ipython3",
   "version": "3.8.2"
  },
  "orig_nbformat": 4
 },
 "nbformat": 4,
 "nbformat_minor": 2
}
