{
 "cells": [
  {
   "cell_type": "markdown",
   "metadata": {},
   "source": [
    "### File description\n",
    "Use GPT-4 to annotate data for training. \n",
    "\n",
    "Given an input story, statement and principle, we use GPT4 to provide an explanation for whether the principle is broken - and why. We use the same data-samples (input story + statement)-pairs as the fully manual annotated data.\n",
    "\n",
    "Output is stored in data/GPT4_full.json.\n",
    "The json file contains fields 'explanation_and_answer', 'answer', 'input' (story+statement), and 'question'"
   ]
  },
  {
   "cell_type": "markdown",
   "metadata": {},
   "source": [
    "### Remarks about generating the data with GPT4\n",
    "These remarks were made by analysing a random 20 samples of the dataset.\n",
    "\n",
    "- To start all coherence says \"no nothing wrong\" (4/4 - my annotations said 2/4). I believe this is a cause for concern, so rephrase the condition/question to be a bit more specific -> it catches one contradiction (that I did not catch in my annotations).\n",
    "- Suffering was also not very well-phrased (effect of 'don't consider emotions' had opposite of wanted effect)\n",
    "- Running twice with standard temperature gave different explanations AND yes/no results (4 changes)! Also a temperature of 0.5 -> changing answers. So we lower the temperature to 0.1. And still have good explanations.\n",
    "- 75% of yes/no after explanations match my annotations. Only 50% of yes/no without explaining first. So we will use the yes/no labels from the explanations.\n",
    "- I would still say GPT-4 is not always correct. Eg this explanation:\n",
    "\n",
    "        The input story does not mention any mental illness or disability that the defendant might have. However, the statement mentions that the defendant believes he is beginning to develop a mental illness. The quote from the statement is: \"I believe I am beginning to develop a mental illness.\" Therefore, the statement does not fail to mention any mental illness or disability. <no>"
   ]
  },
  {
   "cell_type": "markdown",
   "metadata": {},
   "source": [
    "## The generation"
   ]
  },
  {
   "cell_type": "code",
   "execution_count": 2,
   "metadata": {},
   "outputs": [
    {
     "name": "stderr",
     "output_type": "stream",
     "text": [
      "Found cached dataset json (/home/vsb29/.cache/huggingface/datasets/json/default-ba6b1c046a561edb/0.0.0/8bb11242116d547c741b2e8a1f18598ffdd40a1d4f2a2872c7a28b697434bc96)\n"
     ]
    },
    {
     "data": {
      "application/vnd.jupyter.widget-view+json": {
       "model_id": "fab369b19ee94e32ab32638398c53845",
       "version_major": 2,
       "version_minor": 0
      },
      "text/plain": [
       "  0%|          | 0/1 [00:00<?, ?it/s]"
      ]
     },
     "metadata": {},
     "output_type": "display_data"
    },
    {
     "data": {
      "text/plain": [
       "DatasetDict({\n",
       "    train: Dataset({\n",
       "        features: ['output', 'instruction', 'input'],\n",
       "        num_rows: 281\n",
       "    })\n",
       "})"
      ]
     },
     "execution_count": 2,
     "metadata": {},
     "output_type": "execute_result"
    }
   ],
   "source": [
    "from key import test_key, miri_key\n",
    "from info import principles, whatCR, rewriteR, yesnoCR_turned, g4_yesno\n",
    "import numpy as np\n",
    "import openai\n",
    "import time\n",
    "import pandas as pd\n",
    "from datasets import load_dataset\n",
    "\n",
    "openai.api_key = miri_key\n",
    "yesnoCR = yesnoCR_turned\n",
    "data_path = \"/home/vsb29/rds/hpc-work/project/data/data_file1.json\"\n",
    "data = load_dataset(\"json\", data_files=data_path)\n",
    "data"
   ]
  },
  {
   "cell_type": "code",
   "execution_count": 7,
   "metadata": {},
   "outputs": [],
   "source": [
    "yesnoCR_to_int = {\n",
    "    \"\"\"Is anything in the statement badly phrased or difficult to follow?\"\"\": 0,\n",
    "    \"\"\"Does the statement ignore the importance of the defendant's guilty plea (an important mitigating factor)?\"\"\": 1,\n",
    "    \"\"\"Does the statement give a different impression (compared to the input story) of whether the defendant has already suffered as a consequence of their crime? We don't consider emotional stress or what may happen in the future as suffering.\"\"\": 2,\n",
    "    \"\"\"Does the statement break the rule 'only mention the defendant's age if it is outside of the interval 30-79'?\"\"\": 3,\n",
    "    \"\"\"Does the statement and input story seem to disagree on whether the defendant has a prior criminal record?\"\"\": 4,\n",
    "    \"\"\"Does the statement fail to mention any mental illness or disability (if the defendant has this)?\"\"\": 5,\n",
    "    \"\"\"Does the statement miss or add important parts of explaining the offense (and the defendant's involvement in it), compared to the input story?\"\"\": 6,\n",
    "    \"\"\"Does the statement give a different impression than the input story of whether the defendant has or want to make amends or 'make up' for the crime?\"\"\": 7,\n",
    "    \"\"\"Does the statement give a different impression than the input story of whether the defendant has or wants to self-improve (eg counselling) or prevent the offense from happening again?\"\"\": 8,\n",
    "    \"\"\"Does the statement give a different impression than the input story of the defendant's good character (for example contributing to the community in some way)?\"\"\": 9,\n",
    "    \"\"\"Does the statement contain any misplaced information for a plea in mitigation (eg mentioning the 'input story' or another statement)?\"\"\": 10,\n",
    "    \"\"\"Does the statement overemphasize, or show emotions different from the input story?\"\"\": 11,\n",
    "    \"\"\"Is there any information in the statement that is unsupported by the input story?\"\"\": 12\n",
    "}"
   ]
  },
  {
   "cell_type": "code",
   "execution_count": 8,
   "metadata": {},
   "outputs": [
    {
     "name": "stdout",
     "output_type": "stream",
     "text": [
      "Does the statement overemphasize, or show emotions different from the input story?\n",
      "11\n",
      "Does the statement overemphasize, or show emotions different from the input story?\n"
     ]
    }
   ],
   "source": [
    "question = data['train'][0]['instruction'].split(\" Please answer 'yes' or 'no'.\")[0]\n",
    "print(question)\n",
    "print(yesnoCR_to_int[question])\n",
    "print(g4_yesno[yesnoCR_to_int[question]])"
   ]
  },
  {
   "cell_type": "markdown",
   "metadata": {},
   "source": [
    "#### yes/no data with explanation"
   ]
  },
  {
   "cell_type": "code",
   "execution_count": 9,
   "metadata": {},
   "outputs": [],
   "source": [
    "explanations_A = []"
   ]
  },
  {
   "cell_type": "code",
   "execution_count": 20,
   "metadata": {},
   "outputs": [
    {
     "name": "stdout",
     "output_type": "stream",
     "text": [
      "200\n",
      "201\n",
      "202\n",
      "203\n",
      "204\n",
      "205\n",
      "206\n",
      "207\n",
      "208\n",
      "209\n",
      "210\n",
      "211\n",
      "212\n",
      "213\n",
      "214\n",
      "215\n",
      "216\n",
      "217\n",
      "218\n",
      "219\n",
      "220\n",
      "221\n",
      "Failed request; we wait.\n",
      "222\n",
      "223\n",
      "224\n",
      "225\n",
      "226\n",
      "227\n",
      "228\n",
      "229\n",
      "230\n",
      "231\n",
      "232\n",
      "233\n",
      "234\n",
      "235\n",
      "236\n",
      "237\n",
      "238\n",
      "239\n",
      "240\n",
      "241\n",
      "242\n",
      "243\n",
      "244\n",
      "245\n",
      "246\n",
      "247\n",
      "248\n",
      "249\n",
      "250\n",
      "251\n",
      "252\n",
      "253\n",
      "254\n",
      "255\n",
      "256\n",
      "257\n",
      "258\n",
      "259\n",
      "260\n",
      "261\n",
      "262\n",
      "263\n",
      "264\n",
      "265\n",
      "266\n",
      "267\n",
      "268\n",
      "269\n",
      "270\n",
      "271\n",
      "272\n",
      "273\n",
      "274\n",
      "275\n",
      "276\n",
      "277\n",
      "278\n",
      "279\n",
      "280\n"
     ]
    }
   ],
   "source": [
    "sys_prompt = \"You will be presented with a question, and then an input story and a statement. You must analyse the input story and statement in order to properly answer the question.\"\n",
    "yesnoWhy = \" Start by thinking about the question step by step, and include short relevant quotes from the input story and from the statement. Then always end by answering the question concisely with <yes> or <no> being the last word.\"\n",
    "\n",
    "diff = \" Make sure to think carefully about what is said in the input story VS what is said in the statement.\"\n",
    "\n",
    "f = open(\"GPT4_explainYN\", \"a\") # Temporary file that will be deleted, but is a safeguard if anything crashes during the loop\n",
    "for j in range(281):\n",
    "    time.sleep(1)\n",
    "    print(j)\n",
    "    f.write(\"\\n###\"+str(j)+\"\\n\")\n",
    "    input_story, initial_statement = data['train'][j]['input'].split(\"\\n### STATEMENT: \")\n",
    "    question = data['train'][j]['instruction'].split(\" Please answer 'yes' or 'no'.\")[0] # question typically asked Vicuna/Alpaca\n",
    "    # if princ == \"Is anything in the statement badly phrased or difficult to follow?\":\n",
    "    #     princ = \"Is anything in the statement badly phrased, too repetative, self-contradictory, or otherwise unreasonable?\"\n",
    "    # elif princ == \"Does the statement give a different impression (compared to the input story) of whether the defendant has already suffered as a consequence of their crime? We don't consider emotional stress or what may happen in the future as suffering.\":\n",
    "    #     princ = \" Does the statement give a different impression (compared to the input story) of whether the defendant has already suffered as a consequence of their crime? (Emotional stress should automatically trigger a <yes> here).\"\n",
    "    # elif princ == \"Does the statement break the rule 'only mention the defendant's age if it is outside of the interval 30-79'?\":\n",
    "    #     princ = \"Does the statement break the rule 'only mention the defendant's age if it is OUTSIDE of the interval 30-79'? Think step by step.\"\n",
    "    g4_q = g4_yesno[yesnoCR_to_int[question]] # Modified prompt/question for GPT-4\n",
    "\n",
    "    chat_log = [{\"role\": \"system\", \"content\": sys_prompt},\n",
    "                {\"role\": \"user\", \"content\": \"### QUESTION: \" + g4_q + yesnoWhy + diff},\n",
    "                {\"role\": \"user\", \"content\": input_story + \"\\n### STATEMENT: \" + initial_statement + \"\\n### ANSWER:\"}]\n",
    "\n",
    "    try:\n",
    "        explanation = openai.ChatCompletion.create(\n",
    "                model=\"gpt-4-0613\",\n",
    "                messages=chat_log,\n",
    "                temperature=0.1\n",
    "            )\n",
    "    except:\n",
    "        print(\"Failed request; we wait.\")\n",
    "        time.sleep(20)\n",
    "        explanation = openai.ChatCompletion.create(\n",
    "                model=\"gpt-4-0613\",\n",
    "                messages=chat_log,\n",
    "                temperature=0.1\n",
    "            )\n",
    "    explanations_A.append(explanation['choices'][0]['message']['content'].replace(\"\\n\", \"\"))\n",
    "    f.write(explanation[\"choices\"][0][\"message\"][\"content\"].replace(\"\\n\", \"\"))\n",
    "f.close()\n"
   ]
  },
  {
   "cell_type": "code",
   "execution_count": 21,
   "metadata": {},
   "outputs": [
    {
     "name": "stdout",
     "output_type": "stream",
     "text": [
      "['no', 'no', 'yes', 'no', 'no', 'no', 'no', 'no', 'no', 'yes', 'no', 'no', 'no', 'no', 'yes', 'yes', 'yes', 'no', 'no', 'no', 'no', 'no', 'no', 'yes', 'no', 'no', 'no', 'no', 'no', 'no', 'no', 'no', 'no', 'yes', 'yes', 'yes', 'yes', 'no', 'no', 'no', 'no', 'no', 'no', 'no', 'yes', 'yes', 'no', 'no', 'no', 'no', 'no', 'no', 'yes', 'no', 'no', 'no', 'no', 'no', 'no', 'no', 'no', 'no', 'no', 'no', 'no', 'yes', 'no', 'no', 'no', 'no', 'no', 'no', 'no', 'no', 'no', 'yes', 'no', 'yes', 'no', 'no', 'yes', 'no', 'yes', 'no', 'no', 'yes', 'yes', 'yes', 'no', 'no', 'yes', 'no', 'no', 'yes', 'yes', 'yes', 'yes', 'no', 'yes', 'no', 'yes', 'yes', 'no', 'no', 'no', 'no', 'yes', 'yes', 'no', 'no', 'no', 'no', 'no', 'yes', 'yes', 'yes', 'no', 'yes', 'no', 'yes', 'yes', 'no', 'yes', 'yes', 'yes', 'yes', 'yes', 'no', 'yes', 'yes', 'no', 'no', 'no', 'no', 'no', 'no', 'no', 'no', 'no', 'yes', 'no', 'no', 'yes', 'yes', 'yes', 'yes', 'yes', 'yes', 'yes', 'yes', 'no', 'no', 'no', 'no', 'no', 'no', 'no', 'no', 'yes', 'no', 'no', 'no', 'no', 'no', 'no', 'no', 'no', 'no', 'no', 'no', 'yes', 'no', 'yes', 'no', 'yes', 'no', 'yes', 'no', 'yes', 'no', 'yes', 'no', 'no', 'no', 'yes', 'no', 'no', 'no', 'no', 'no', 'yes', 'yes', 'no', 'yes', 'yes', 'yes', 'no', 'no', 'no', 'no', 'yes', 'no', 'no', 'no', 'no', 'yes', 'no', 'yes', 'no', 'no', 'no', 'no', 'no', 'no', 'no', 'no', 'no', 'no', 'no', 'yes', 'no', 'no', 'no', 'no', 'no', 'yes', 'no', 'no', 'yes', 'no', 'no', 'no', 'yes', 'no', 'yes', 'no', 'yes', 'yes', 'yes', 'yes', 'yes', 'yes', 'yes', 'yes', 'no', 'no', 'yes', 'yes', 'no', 'no', 'yes', 'yes', 'yes', 'no', 'no', 'yes', 'yes', 'no', 'no', 'yes', 'no', 'yes', 'no', 'no', 'yes', 'yes', 'yes', 'yes', 'yes', 'no', 'yes', 'yes', 'yes', 'yes', 'no', 'yes', 'yes', 'no', 'yes', 'yes', 'yes']\n",
      "281\n"
     ]
    }
   ],
   "source": [
    "answer = []\n",
    "for i in range(len(explanations_AE)):\n",
    "    last = explanations_AE[i][-5:]\n",
    "    if 'yes' in last.lower():\n",
    "        answer.append('yes')\n",
    "    elif 'no' in last.lower():\n",
    "        answer.append('no')\n",
    "    else:\n",
    "        print(last)\n",
    "print(answer)\n",
    "print(len(answer))"
   ]
  },
  {
   "cell_type": "code",
   "execution_count": 22,
   "metadata": {},
   "outputs": [
    {
     "data": {
      "text/html": [
       "<div>\n",
       "<style scoped>\n",
       "    .dataframe tbody tr th:only-of-type {\n",
       "        vertical-align: middle;\n",
       "    }\n",
       "\n",
       "    .dataframe tbody tr th {\n",
       "        vertical-align: top;\n",
       "    }\n",
       "\n",
       "    .dataframe thead th {\n",
       "        text-align: right;\n",
       "    }\n",
       "</style>\n",
       "<table border=\"1\" class=\"dataframe\">\n",
       "  <thead>\n",
       "    <tr style=\"text-align: right;\">\n",
       "      <th></th>\n",
       "      <th>explanation_and_answer</th>\n",
       "      <th>answer</th>\n",
       "      <th>input</th>\n",
       "      <th>question</th>\n",
       "    </tr>\n",
       "  </thead>\n",
       "  <tbody>\n",
       "    <tr>\n",
       "      <th>0</th>\n",
       "      <td>The statement does not overemphasize or show e...</td>\n",
       "      <td>no</td>\n",
       "      <td>### INPUT STORY: My name is Ronald Smith and I...</td>\n",
       "      <td>Does the statement overemphasize, or show emot...</td>\n",
       "    </tr>\n",
       "    <tr>\n",
       "      <th>1</th>\n",
       "      <td>The statement is well-phrased and easy to foll...</td>\n",
       "      <td>no</td>\n",
       "      <td>### INPUT STORY: My name is Ronald Smith and I...</td>\n",
       "      <td>Is anything in the statement badly phrased or ...</td>\n",
       "    </tr>\n",
       "    <tr>\n",
       "      <th>2</th>\n",
       "      <td>The input story does not mention any intention...</td>\n",
       "      <td>yes</td>\n",
       "      <td>### INPUT STORY: My name is Ronald Smith and I...</td>\n",
       "      <td>Does the statement give a different impression...</td>\n",
       "    </tr>\n",
       "    <tr>\n",
       "      <th>3</th>\n",
       "      <td>The statement does not overemphasize or show e...</td>\n",
       "      <td>no</td>\n",
       "      <td>### INPUT STORY: My name is Ronald Smith and I...</td>\n",
       "      <td>Does the statement overemphasize, or show emot...</td>\n",
       "    </tr>\n",
       "    <tr>\n",
       "      <th>4</th>\n",
       "      <td>The statement does not overemphasize or show e...</td>\n",
       "      <td>no</td>\n",
       "      <td>### INPUT STORY: My name is Ronald Smith and I...</td>\n",
       "      <td>Does the statement overemphasize, or show emot...</td>\n",
       "    </tr>\n",
       "  </tbody>\n",
       "</table>\n",
       "</div>"
      ],
      "text/plain": [
       "                              explanation_and_answer answer  \\\n",
       "0  The statement does not overemphasize or show e...     no   \n",
       "1  The statement is well-phrased and easy to foll...     no   \n",
       "2  The input story does not mention any intention...    yes   \n",
       "3  The statement does not overemphasize or show e...     no   \n",
       "4  The statement does not overemphasize or show e...     no   \n",
       "\n",
       "                                               input  \\\n",
       "0  ### INPUT STORY: My name is Ronald Smith and I...   \n",
       "1  ### INPUT STORY: My name is Ronald Smith and I...   \n",
       "2  ### INPUT STORY: My name is Ronald Smith and I...   \n",
       "3  ### INPUT STORY: My name is Ronald Smith and I...   \n",
       "4  ### INPUT STORY: My name is Ronald Smith and I...   \n",
       "\n",
       "                                            question  \n",
       "0  Does the statement overemphasize, or show emot...  \n",
       "1  Is anything in the statement badly phrased or ...  \n",
       "2  Does the statement give a different impression...  \n",
       "3  Does the statement overemphasize, or show emot...  \n",
       "4  Does the statement overemphasize, or show emot...  "
      ]
     },
     "execution_count": 22,
     "metadata": {},
     "output_type": "execute_result"
    }
   ],
   "source": [
    "data_dict = {'explanation_and_answer': explanations_AE, 'answer': answer, 'input': data['train']['input'], 'question': data['train']['instruction']}\n",
    "data_df = pd.DataFrame.from_dict(data_dict)\n",
    "data_df.head()"
   ]
  },
  {
   "cell_type": "code",
   "execution_count": 28,
   "metadata": {},
   "outputs": [
    {
     "data": {
      "text/plain": [
       "\"Is anything in the statement badly phrased or difficult to follow? Please answer 'yes' or 'no'. Make sure to think carefully about what is said in the input story VS what is said in the statement.\""
      ]
     },
     "execution_count": 28,
     "metadata": {},
     "output_type": "execute_result"
    }
   ],
   "source": [
    "data_df[\"question\"][5]"
   ]
  },
  {
   "cell_type": "code",
   "execution_count": 29,
   "metadata": {},
   "outputs": [],
   "source": [
    "### Don't use this anymore\n",
    "yesnoWhy = \" Start by thinking about the question step by step, and include short relevant quotes from the input story and from the statement. Then always end by answering the question concisely with <yes> or <no> being the last word.\"\n",
    "yesno_AE = \" Start by thinking about the question step by step, and include relevant quotes from the input story and from the statement. Then always end by answering the question concisely with <yes> or <no> being the last word.\"\n",
    "\n",
    "\n",
    "diff = \" Make sure to think carefully about what is said in the input story VS what is said in the statement.\"\n",
    "\n",
    "def modify_question_old(q):\n",
    "    princ = q.split(\" Please answer 'yes' or 'no'.\")[0]\n",
    "    if princ == \"Is anything in the statement badly phrased or difficult to follow?\":\n",
    "        princ = \"Is anything in the statement badly phrased, too repetative, self-contradictory, or otherwise unreasonable?\"\n",
    "    elif princ == \"Does the statement give a different impression (compared to the input story) of whether the defendant has already suffered as a consequence of their crime? We don't consider emotional stress or what may happen in the future as suffering.\":\n",
    "        princ = \" Does the statement give a different impression (compared to the input story) of whether the defendant has already suffered as a consequence of their crime? (Emotional stress should automatically trigger a <yes> here).\"\n",
    "    elif princ == \"Does the statement break the rule 'only mention the defendant's age if it is outside of the interval 30-79'?\":\n",
    "        princ = \"Does the statement break the rule 'only mention the defendant's age if it is OUTSIDE of the interval 30-79'? Think step by step.\"\n",
    "\n",
    "    return princ+yesnoWhy+diff\n",
    "\n",
    "data_df2 = data_df.copy()\n",
    "data_df2['question'] = data_df['question'].apply(modify_question_old)\n"
   ]
  },
  {
   "cell_type": "code",
   "execution_count": 30,
   "metadata": {},
   "outputs": [
    {
     "data": {
      "text/html": [
       "<div>\n",
       "<style scoped>\n",
       "    .dataframe tbody tr th:only-of-type {\n",
       "        vertical-align: middle;\n",
       "    }\n",
       "\n",
       "    .dataframe tbody tr th {\n",
       "        vertical-align: top;\n",
       "    }\n",
       "\n",
       "    .dataframe thead th {\n",
       "        text-align: right;\n",
       "    }\n",
       "</style>\n",
       "<table border=\"1\" class=\"dataframe\">\n",
       "  <thead>\n",
       "    <tr style=\"text-align: right;\">\n",
       "      <th></th>\n",
       "      <th>explanation_and_answer</th>\n",
       "      <th>answer</th>\n",
       "      <th>input</th>\n",
       "      <th>question</th>\n",
       "    </tr>\n",
       "  </thead>\n",
       "  <tbody>\n",
       "    <tr>\n",
       "      <th>0</th>\n",
       "      <td>The statement does not overemphasize or show e...</td>\n",
       "      <td>no</td>\n",
       "      <td>### INPUT STORY: My name is Ronald Smith and I...</td>\n",
       "      <td>Does the statement overemphasize, or show emot...</td>\n",
       "    </tr>\n",
       "    <tr>\n",
       "      <th>1</th>\n",
       "      <td>The statement is well-phrased and does not con...</td>\n",
       "      <td>no</td>\n",
       "      <td>### INPUT STORY: My name is Ronald Smith and I...</td>\n",
       "      <td>Is anything in the statement badly phrased, to...</td>\n",
       "    </tr>\n",
       "    <tr>\n",
       "      <th>2</th>\n",
       "      <td>The input story and the statement both acknowl...</td>\n",
       "      <td>yes</td>\n",
       "      <td>### INPUT STORY: My name is Ronald Smith and I...</td>\n",
       "      <td>Does the statement give a different impression...</td>\n",
       "    </tr>\n",
       "    <tr>\n",
       "      <th>3</th>\n",
       "      <td>The statement does not overemphasize or show e...</td>\n",
       "      <td>no</td>\n",
       "      <td>### INPUT STORY: My name is Ronald Smith and I...</td>\n",
       "      <td>Does the statement overemphasize, or show emot...</td>\n",
       "    </tr>\n",
       "    <tr>\n",
       "      <th>4</th>\n",
       "      <td>The statement does not overemphasize or show e...</td>\n",
       "      <td>no</td>\n",
       "      <td>### INPUT STORY: My name is Ronald Smith and I...</td>\n",
       "      <td>Does the statement overemphasize, or show emot...</td>\n",
       "    </tr>\n",
       "  </tbody>\n",
       "</table>\n",
       "</div>"
      ],
      "text/plain": [
       "                              explanation_and_answer answer  \\\n",
       "0  The statement does not overemphasize or show e...     no   \n",
       "1  The statement is well-phrased and does not con...     no   \n",
       "2  The input story and the statement both acknowl...    yes   \n",
       "3  The statement does not overemphasize or show e...     no   \n",
       "4  The statement does not overemphasize or show e...     no   \n",
       "\n",
       "                                               input  \\\n",
       "0  ### INPUT STORY: My name is Ronald Smith and I...   \n",
       "1  ### INPUT STORY: My name is Ronald Smith and I...   \n",
       "2  ### INPUT STORY: My name is Ronald Smith and I...   \n",
       "3  ### INPUT STORY: My name is Ronald Smith and I...   \n",
       "4  ### INPUT STORY: My name is Ronald Smith and I...   \n",
       "\n",
       "                                            question  \n",
       "0  Does the statement overemphasize, or show emot...  \n",
       "1  Is anything in the statement badly phrased, to...  \n",
       "2  Does the statement give a different impression...  \n",
       "3  Does the statement overemphasize, or show emot...  \n",
       "4  Does the statement overemphasize, or show emot...  "
      ]
     },
     "execution_count": 30,
     "metadata": {},
     "output_type": "execute_result"
    }
   ],
   "source": [
    "data_df2.head()"
   ]
  },
  {
   "cell_type": "code",
   "execution_count": 24,
   "metadata": {},
   "outputs": [],
   "source": [
    "json_str = data_df.to_json('data/GPT4_2_half.json', orient = 'records')"
   ]
  },
  {
   "cell_type": "markdown",
   "metadata": {},
   "source": [
    "##### Sidenote\n",
    "Cleanup some minor faults; tended to forget a space after end-of-sentence, so instead of generating it all over again, I fixed it w regex:\n",
    "\n",
    "substituting (\\p{L})\\.(\\p{L}) with $1. $2"
   ]
  },
  {
   "cell_type": "markdown",
   "metadata": {},
   "source": [
    "#### Only explanations"
   ]
  },
  {
   "cell_type": "code",
   "execution_count": 14,
   "metadata": {},
   "outputs": [
    {
     "name": "stderr",
     "output_type": "stream",
     "text": [
      "Found cached dataset json (/home/vsb29/.cache/huggingface/datasets/json/default-9a242ef7e101a84e/0.0.0/8bb11242116d547c741b2e8a1f18598ffdd40a1d4f2a2872c7a28b697434bc96)\n"
     ]
    },
    {
     "data": {
      "application/vnd.jupyter.widget-view+json": {
       "model_id": "8a6a7de5345f4a4aa2432d393d6f2a20",
       "version_major": 2,
       "version_minor": 0
      },
      "text/plain": [
       "  0%|          | 0/1 [00:00<?, ?it/s]"
      ]
     },
     "metadata": {},
     "output_type": "display_data"
    },
    {
     "data": {
      "text/plain": [
       "\"Is anything in the statement badly phrased or difficult to follow? Please answer 'yes' or 'no'. Make sure to think carefully about what is said in the input story VS what is said in the statement.\""
      ]
     },
     "execution_count": 14,
     "metadata": {},
     "output_type": "execute_result"
    }
   ],
   "source": [
    "data_path = \"/home/vsb29/rds/hpc-work/project/data/GPT4_2_half.json\"\n",
    "data2 = load_dataset(\"json\", data_files=data_path)\n",
    "data2['train'][149]['question']"
   ]
  },
  {
   "cell_type": "code",
   "execution_count": 15,
   "metadata": {},
   "outputs": [],
   "source": [
    "def modify_questions(q):\n",
    "    return yesnoCR_turned[yesnoCR_to_int[q.split(\" Please answer 'yes' or 'no'\")[0]]]"
   ]
  },
  {
   "cell_type": "code",
   "execution_count": 21,
   "metadata": {},
   "outputs": [
    {
     "name": "stdout",
     "output_type": "stream",
     "text": [
      "200\n",
      "201\n",
      "202\n",
      "203\n",
      "204\n",
      "205\n",
      "206\n",
      "207\n",
      "208\n",
      "209\n",
      "210\n",
      "211\n",
      "212\n",
      "213\n",
      "214\n",
      "215\n",
      "216\n",
      "217\n",
      "218\n",
      "219\n",
      "220\n",
      "221\n",
      "222\n",
      "223\n",
      "224\n",
      "225\n",
      "226\n",
      "227\n",
      "228\n",
      "229\n",
      "230\n",
      "231\n",
      "232\n",
      "233\n",
      "234\n",
      "235\n",
      "236\n",
      "237\n",
      "238\n",
      "239\n",
      "240\n",
      "241\n",
      "242\n",
      "243\n",
      "244\n",
      "Failed request; we wait.\n",
      "245\n",
      "246\n",
      "247\n",
      "248\n",
      "249\n",
      "250\n",
      "251\n",
      "252\n",
      "253\n",
      "254\n",
      "255\n",
      "256\n",
      "257\n",
      "258\n",
      "259\n",
      "260\n",
      "261\n",
      "262\n",
      "263\n",
      "264\n",
      "265\n",
      "266\n",
      "267\n",
      "268\n",
      "269\n",
      "270\n",
      "271\n",
      "272\n",
      "273\n",
      "274\n",
      "275\n",
      "276\n",
      "277\n",
      "278\n",
      "279\n",
      "280\n"
     ]
    }
   ],
   "source": [
    "sys_prompt = \"You will be presented with a question, and then an input story and a statement. You must analyse the input story and statement in order to properly answer the question.\"\n",
    "#yesnoWhy = \" Start by thinking about the question step by step, and include short relevant quotes from the input story and from the statement. Then always end by answering the question concisely with <yes> or <no> being the last word.\"\n",
    "yesnoWhy = \" First, locate quotes from the input story and from the statement that may be relevant to the question. Please think step by step, but do NOT answer the question.\"\n",
    "\n",
    "diff = \" Make sure to think carefully about what is said in the input story VS what is said in the statement.\"\n",
    "\n",
    "#explanations_E = []\n",
    "f = open(\"GPT4_explainYN\", \"a\")\n",
    "for j in range(200,281):\n",
    "    time.sleep(0.1)\n",
    "    print(j)\n",
    "    f.write(\"\\n###\"+str(j)+\"\\n\")\n",
    "    input_story, initial_statement = data2['train'][j]['input'].split(\"\\n### STATEMENT: \")\n",
    "    question = data2['train'][j]['question'].split(\" Please answer 'yes' or 'no'.\")[0]\n",
    "    g4_q = g4_yesno[yesnoCR_to_int[question]] \n",
    "\n",
    "    chat_log = [{\"role\": \"system\", \"content\": sys_prompt},\n",
    "                {\"role\": \"user\", \"content\": \"### QUESTION: \" + g4_q + yesnoWhy + diff},\n",
    "                {\"role\": \"user\", \"content\": input_story + \"\\n### STATEMENT: \" + initial_statement + \"\\n### ANSWER:\"}]\n",
    "\n",
    "    try:\n",
    "        explanation = openai.ChatCompletion.create(\n",
    "                model=\"gpt-4-0613\",\n",
    "                messages=chat_log,\n",
    "                temperature=0.5,\n",
    "                top_p=0.9\n",
    "            )\n",
    "    except:\n",
    "        print(\"Failed request; we wait.\")\n",
    "        time.sleep(20)\n",
    "        explanation = openai.ChatCompletion.create(\n",
    "                model=\"gpt-4-0613\",\n",
    "                messages=chat_log,\n",
    "                temperature=0.5,\n",
    "                top_p=0.9\n",
    "            )\n",
    "    explanations_E.append(explanation['choices'][0]['message']['content'].replace(\"\\n\", \"\"))\n",
    "    f.write(explanation['choices'][0]['message']['content'].replace(\"\\n\", \"\"))\n",
    "\n",
    "f.close()"
   ]
  },
  {
   "cell_type": "code",
   "execution_count": 22,
   "metadata": {},
   "outputs": [
    {
     "name": "stdout",
     "output_type": "stream",
     "text": [
      "281\n"
     ]
    }
   ],
   "source": [
    "print(len(explanations_E))\n",
    "explanations_new = explanations_E.copy()"
   ]
  },
  {
   "cell_type": "code",
   "execution_count": 20,
   "metadata": {},
   "outputs": [
    {
     "name": "stdout",
     "output_type": "stream",
     "text": [
      "0The input story says, \"I am 32 years old and have never done anything like this.\" and \"I got really angry and lost control for a moment.\" This shows that the speaker acknowledges his actions and feels regret.The statement says, \"I am pleading guilty as a mitigating factor in the hope that the court will take this into account when sentencing me.\" and \"I understand the seriousness of my actions and am willing to cooperate with authorities to make things right.\" This indicates that the speaker is taking responsibility for his actions and is willing to face the consequences.Also, the input story mentions, \"I had been drinking with some friends and then this guy said something very rude to my friend,\" which led to the speaker's actions. The statement also mentions, \"On the night in question, I had been drinking with some friends when a guy said something very rude to my friend. In my anger, I lost control and hit him.\"In both the input story and the statement, the speaker acknowledges that he was drinking and became angry, leading to his actions. However, the statement seems to elaborate more on the speaker's willingness to cooperate and make things right, as well as his hope for leniency due to his lack of a criminal record.\n",
      "281\n"
     ]
    }
   ],
   "source": [
    "# file = open('GPT4_explainYN',mode='r')\n",
    "# text = file.read()\n",
    "# explanations_new = text.replace(\"\\n\", \"\").split('###')[1:]\n",
    "\n",
    "# print(explanations_new[0])\n",
    "# print(len(explanations_new))"
   ]
  },
  {
   "cell_type": "code",
   "execution_count": 24,
   "metadata": {},
   "outputs": [
    {
     "data": {
      "text/html": [
       "<div>\n",
       "<style scoped>\n",
       "    .dataframe tbody tr th:only-of-type {\n",
       "        vertical-align: middle;\n",
       "    }\n",
       "\n",
       "    .dataframe tbody tr th {\n",
       "        vertical-align: top;\n",
       "    }\n",
       "\n",
       "    .dataframe thead th {\n",
       "        text-align: right;\n",
       "    }\n",
       "</style>\n",
       "<table border=\"1\" class=\"dataframe\">\n",
       "  <thead>\n",
       "    <tr style=\"text-align: right;\">\n",
       "      <th></th>\n",
       "      <th>only_explanation</th>\n",
       "      <th>explanation_and_answer</th>\n",
       "      <th>answer</th>\n",
       "      <th>input</th>\n",
       "      <th>question</th>\n",
       "    </tr>\n",
       "  </thead>\n",
       "  <tbody>\n",
       "    <tr>\n",
       "      <th>0</th>\n",
       "      <td>The input story includes the following relevan...</td>\n",
       "      <td>The statement does not overemphasize or show e...</td>\n",
       "      <td>no</td>\n",
       "      <td>### INPUT STORY: My name is Ronald Smith and I...</td>\n",
       "      <td>Does the statement overemphasize, or show emot...</td>\n",
       "    </tr>\n",
       "    <tr>\n",
       "      <th>1</th>\n",
       "      <td>The statement seems to be well-phrased and eas...</td>\n",
       "      <td>The statement is well-phrased and easy to foll...</td>\n",
       "      <td>no</td>\n",
       "      <td>### INPUT STORY: My name is Ronald Smith and I...</td>\n",
       "      <td>Is anything in the statement badly phrased, di...</td>\n",
       "    </tr>\n",
       "    <tr>\n",
       "      <th>2</th>\n",
       "      <td>The input story says: \"My name is Ronald Smith...</td>\n",
       "      <td>The input story does not mention any intention...</td>\n",
       "      <td>yes</td>\n",
       "      <td>### INPUT STORY: My name is Ronald Smith and I...</td>\n",
       "      <td>Does the statement give a different impression...</td>\n",
       "    </tr>\n",
       "  </tbody>\n",
       "</table>\n",
       "</div>"
      ],
      "text/plain": [
       "                                    only_explanation  \\\n",
       "0  The input story includes the following relevan...   \n",
       "1  The statement seems to be well-phrased and eas...   \n",
       "2  The input story says: \"My name is Ronald Smith...   \n",
       "\n",
       "                              explanation_and_answer answer  \\\n",
       "0  The statement does not overemphasize or show e...     no   \n",
       "1  The statement is well-phrased and easy to foll...     no   \n",
       "2  The input story does not mention any intention...    yes   \n",
       "\n",
       "                                               input  \\\n",
       "0  ### INPUT STORY: My name is Ronald Smith and I...   \n",
       "1  ### INPUT STORY: My name is Ronald Smith and I...   \n",
       "2  ### INPUT STORY: My name is Ronald Smith and I...   \n",
       "\n",
       "                                            question  \n",
       "0  Does the statement overemphasize, or show emot...  \n",
       "1  Is anything in the statement badly phrased, di...  \n",
       "2  Does the statement give a different impression...  "
      ]
     },
     "execution_count": 24,
     "metadata": {},
     "output_type": "execute_result"
    }
   ],
   "source": [
    "full_GPT4 = {'only_explanation': explanations_new, 'explanation_and_answer': data2['train']['explanation_and_answer'], 'answer': data2['train']['answer'], 'input': data2['train']['input'], 'question': data2['train']['question']}\n",
    "full_GPT4 = pd.DataFrame(full_GPT4)\n",
    "full_GPT4['question'] = full_GPT4['question'] .apply(modify_questions)\n",
    "\n",
    "full_GPT4.head(3)"
   ]
  },
  {
   "cell_type": "code",
   "execution_count": 25,
   "metadata": {},
   "outputs": [
    {
     "data": {
      "text/plain": [
       "'Is anything in the statement badly phrased, difficult to follow or repetative?'"
      ]
     },
     "execution_count": 25,
     "metadata": {},
     "output_type": "execute_result"
    }
   ],
   "source": [
    "full_GPT4['question'][149]"
   ]
  },
  {
   "cell_type": "code",
   "execution_count": 26,
   "metadata": {},
   "outputs": [],
   "source": [
    "import re\n",
    "def remove_starting_numbers(line):\n",
    "    return re.sub('^\\d+', '', line)\n"
   ]
  },
  {
   "cell_type": "code",
   "execution_count": 26,
   "metadata": {},
   "outputs": [],
   "source": [
    "#full_GPT4['only_explanation'] = full_GPT4['only_explanation'].apply(remove_starting_numbers)\n",
    "#full_GPT4.head()"
   ]
  },
  {
   "cell_type": "code",
   "execution_count": 27,
   "metadata": {},
   "outputs": [],
   "source": [
    "json_str = full_GPT4.to_json('data/GPT4_full3.json', orient = 'records')"
   ]
  },
  {
   "cell_type": "code",
   "execution_count": null,
   "metadata": {},
   "outputs": [],
   "source": []
  }
 ],
 "metadata": {
  "kernelspec": {
   "display_name": "Pmix",
   "language": "python",
   "name": "pmix"
  },
  "language_info": {
   "codemirror_mode": {
    "name": "ipython",
    "version": 3
   },
   "file_extension": ".py",
   "mimetype": "text/x-python",
   "name": "python",
   "nbconvert_exporter": "python",
   "pygments_lexer": "ipython3",
   "version": "3.8.2"
  },
  "orig_nbformat": 4
 },
 "nbformat": 4,
 "nbformat_minor": 2
}
